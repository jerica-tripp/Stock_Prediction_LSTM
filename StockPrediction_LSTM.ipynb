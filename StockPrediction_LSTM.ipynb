{
  "nbformat": 4,
  "nbformat_minor": 0,
  "metadata": {
    "colab": {
      "name": "StockPrediction_LSTM.ipynb",
      "provenance": [],
      "machine_shape": "hm"
    },
    "kernelspec": {
      "name": "python3",
      "display_name": "Python 3"
    },
    "language_info": {
      "name": "python"
    },
    "gpuClass": "standard"
  },
  "cells": [
    {
      "cell_type": "markdown",
      "source": [
        "# Stock Price Predictions"
      ],
      "metadata": {
        "id": "gg2tbw_PCubM"
      }
    },
    {
      "cell_type": "code",
      "execution_count": null,
      "metadata": {
        "id": "5T-SYfbmAZ43"
      },
      "outputs": [],
      "source": [
        "# Import Packages\n",
        "import requests\n",
        "import pandas as pd\n",
        "import time\n",
        "import numpy as np\n",
        "\n",
        "# Turn off scientific notation\n",
        "pd.set_option('display.float_format', lambda x: '%.5f' % x)"
      ]
    },
    {
      "cell_type": "code",
      "source": [
        "# Import data from Alpha Advantage for selected stock\n",
        "# Add 30 second delay to prevent reaching API limit of 5 calls per minute\n",
        "\n",
        "# Create list of stock tickers to loop over\n",
        "tickers = ['DFS','JPM','AXP','C','BAC','USB','WFC']\n",
        "\n",
        "# Create URL for AlphaVantage API call\n",
        "apiKey = 'MH7YI4PH913XPSUP'\n",
        "func = 'TIME_SERIES_DAILY'\n",
        "\n",
        "#Create empty dataframe to store results of all tickers\n",
        "df = pd.DataFrame()\n",
        "\n",
        "# Loop over tickers and concatenate results to dataframe\n",
        "for i in tickers:\n",
        "  # Create empty dataframe to store results of loop\n",
        "  df_tmp = pd.DataFrame()\n",
        "  df_temp = pd.read_csv('https://www.alphavantage.co/query?function='+func+'&symbol='+i+'&apikey='+apiKey+'&datatype=csv&outputsize=full'\n",
        ") \n",
        "  df_temp['ticker'] = i\n",
        "  df = pd.concat([df, df_temp], axis=0)\n",
        "\n",
        "  # Wait 30 seconds before next running loop\n",
        "  time.sleep(30)"
      ],
      "metadata": {
        "id": "l-JH4IfOnU_8"
      },
      "execution_count": null,
      "outputs": []
    },
    {
      "cell_type": "code",
      "source": [
        "# Write data to CSV in case dataframe needs re-loaded\n",
        "df.to_csv('stock_data.csv')\n",
        "# df = pd.read_csv('stock_data.csv')"
      ],
      "metadata": {
        "id": "ytctUhVAX-UY"
      },
      "execution_count": null,
      "outputs": []
    },
    {
      "cell_type": "code",
      "source": [
        "# View data sample\n",
        "df.head()"
      ],
      "metadata": {
        "colab": {
          "base_uri": "https://localhost:8080/",
          "height": 206
        },
        "id": "6LCowA4TQV_s",
        "outputId": "2fe2ba1f-3ba7-4b5e-807c-198a6e697cef"
      },
      "execution_count": null,
      "outputs": [
        {
          "output_type": "execute_result",
          "data": {
            "text/plain": [
              "    timestamp      open      high       low     close   volume ticker\n",
              "0  2022-08-05 101.31000 102.88500 101.05000 102.35000  1313984    DFS\n",
              "1  2022-08-04 102.75000 102.88000 101.47000 102.36000  1719679    DFS\n",
              "2  2022-08-03 102.02000 103.07000 101.11960 102.76000  1227094    DFS\n",
              "3  2022-08-02 101.54000 101.58000  99.70250 100.16000   862239    DFS\n",
              "4  2022-08-01 100.30000 102.44000  99.34000 102.22000  1890022    DFS"
            ],
            "text/html": [
              "\n",
              "  <div id=\"df-b24a8a82-cb4a-43c9-9c07-1f2304e8809b\">\n",
              "    <div class=\"colab-df-container\">\n",
              "      <div>\n",
              "<style scoped>\n",
              "    .dataframe tbody tr th:only-of-type {\n",
              "        vertical-align: middle;\n",
              "    }\n",
              "\n",
              "    .dataframe tbody tr th {\n",
              "        vertical-align: top;\n",
              "    }\n",
              "\n",
              "    .dataframe thead th {\n",
              "        text-align: right;\n",
              "    }\n",
              "</style>\n",
              "<table border=\"1\" class=\"dataframe\">\n",
              "  <thead>\n",
              "    <tr style=\"text-align: right;\">\n",
              "      <th></th>\n",
              "      <th>timestamp</th>\n",
              "      <th>open</th>\n",
              "      <th>high</th>\n",
              "      <th>low</th>\n",
              "      <th>close</th>\n",
              "      <th>volume</th>\n",
              "      <th>ticker</th>\n",
              "    </tr>\n",
              "  </thead>\n",
              "  <tbody>\n",
              "    <tr>\n",
              "      <th>0</th>\n",
              "      <td>2022-08-05</td>\n",
              "      <td>101.31000</td>\n",
              "      <td>102.88500</td>\n",
              "      <td>101.05000</td>\n",
              "      <td>102.35000</td>\n",
              "      <td>1313984</td>\n",
              "      <td>DFS</td>\n",
              "    </tr>\n",
              "    <tr>\n",
              "      <th>1</th>\n",
              "      <td>2022-08-04</td>\n",
              "      <td>102.75000</td>\n",
              "      <td>102.88000</td>\n",
              "      <td>101.47000</td>\n",
              "      <td>102.36000</td>\n",
              "      <td>1719679</td>\n",
              "      <td>DFS</td>\n",
              "    </tr>\n",
              "    <tr>\n",
              "      <th>2</th>\n",
              "      <td>2022-08-03</td>\n",
              "      <td>102.02000</td>\n",
              "      <td>103.07000</td>\n",
              "      <td>101.11960</td>\n",
              "      <td>102.76000</td>\n",
              "      <td>1227094</td>\n",
              "      <td>DFS</td>\n",
              "    </tr>\n",
              "    <tr>\n",
              "      <th>3</th>\n",
              "      <td>2022-08-02</td>\n",
              "      <td>101.54000</td>\n",
              "      <td>101.58000</td>\n",
              "      <td>99.70250</td>\n",
              "      <td>100.16000</td>\n",
              "      <td>862239</td>\n",
              "      <td>DFS</td>\n",
              "    </tr>\n",
              "    <tr>\n",
              "      <th>4</th>\n",
              "      <td>2022-08-01</td>\n",
              "      <td>100.30000</td>\n",
              "      <td>102.44000</td>\n",
              "      <td>99.34000</td>\n",
              "      <td>102.22000</td>\n",
              "      <td>1890022</td>\n",
              "      <td>DFS</td>\n",
              "    </tr>\n",
              "  </tbody>\n",
              "</table>\n",
              "</div>\n",
              "      <button class=\"colab-df-convert\" onclick=\"convertToInteractive('df-b24a8a82-cb4a-43c9-9c07-1f2304e8809b')\"\n",
              "              title=\"Convert this dataframe to an interactive table.\"\n",
              "              style=\"display:none;\">\n",
              "        \n",
              "  <svg xmlns=\"http://www.w3.org/2000/svg\" height=\"24px\"viewBox=\"0 0 24 24\"\n",
              "       width=\"24px\">\n",
              "    <path d=\"M0 0h24v24H0V0z\" fill=\"none\"/>\n",
              "    <path d=\"M18.56 5.44l.94 2.06.94-2.06 2.06-.94-2.06-.94-.94-2.06-.94 2.06-2.06.94zm-11 1L8.5 8.5l.94-2.06 2.06-.94-2.06-.94L8.5 2.5l-.94 2.06-2.06.94zm10 10l.94 2.06.94-2.06 2.06-.94-2.06-.94-.94-2.06-.94 2.06-2.06.94z\"/><path d=\"M17.41 7.96l-1.37-1.37c-.4-.4-.92-.59-1.43-.59-.52 0-1.04.2-1.43.59L10.3 9.45l-7.72 7.72c-.78.78-.78 2.05 0 2.83L4 21.41c.39.39.9.59 1.41.59.51 0 1.02-.2 1.41-.59l7.78-7.78 2.81-2.81c.8-.78.8-2.07 0-2.86zM5.41 20L4 18.59l7.72-7.72 1.47 1.35L5.41 20z\"/>\n",
              "  </svg>\n",
              "      </button>\n",
              "      \n",
              "  <style>\n",
              "    .colab-df-container {\n",
              "      display:flex;\n",
              "      flex-wrap:wrap;\n",
              "      gap: 12px;\n",
              "    }\n",
              "\n",
              "    .colab-df-convert {\n",
              "      background-color: #E8F0FE;\n",
              "      border: none;\n",
              "      border-radius: 50%;\n",
              "      cursor: pointer;\n",
              "      display: none;\n",
              "      fill: #1967D2;\n",
              "      height: 32px;\n",
              "      padding: 0 0 0 0;\n",
              "      width: 32px;\n",
              "    }\n",
              "\n",
              "    .colab-df-convert:hover {\n",
              "      background-color: #E2EBFA;\n",
              "      box-shadow: 0px 1px 2px rgba(60, 64, 67, 0.3), 0px 1px 3px 1px rgba(60, 64, 67, 0.15);\n",
              "      fill: #174EA6;\n",
              "    }\n",
              "\n",
              "    [theme=dark] .colab-df-convert {\n",
              "      background-color: #3B4455;\n",
              "      fill: #D2E3FC;\n",
              "    }\n",
              "\n",
              "    [theme=dark] .colab-df-convert:hover {\n",
              "      background-color: #434B5C;\n",
              "      box-shadow: 0px 1px 3px 1px rgba(0, 0, 0, 0.15);\n",
              "      filter: drop-shadow(0px 1px 2px rgba(0, 0, 0, 0.3));\n",
              "      fill: #FFFFFF;\n",
              "    }\n",
              "  </style>\n",
              "\n",
              "      <script>\n",
              "        const buttonEl =\n",
              "          document.querySelector('#df-b24a8a82-cb4a-43c9-9c07-1f2304e8809b button.colab-df-convert');\n",
              "        buttonEl.style.display =\n",
              "          google.colab.kernel.accessAllowed ? 'block' : 'none';\n",
              "\n",
              "        async function convertToInteractive(key) {\n",
              "          const element = document.querySelector('#df-b24a8a82-cb4a-43c9-9c07-1f2304e8809b');\n",
              "          const dataTable =\n",
              "            await google.colab.kernel.invokeFunction('convertToInteractive',\n",
              "                                                     [key], {});\n",
              "          if (!dataTable) return;\n",
              "\n",
              "          const docLinkHtml = 'Like what you see? Visit the ' +\n",
              "            '<a target=\"_blank\" href=https://colab.research.google.com/notebooks/data_table.ipynb>data table notebook</a>'\n",
              "            + ' to learn more about interactive tables.';\n",
              "          element.innerHTML = '';\n",
              "          dataTable['output_type'] = 'display_data';\n",
              "          await google.colab.output.renderOutput(dataTable, element);\n",
              "          const docLink = document.createElement('div');\n",
              "          docLink.innerHTML = docLinkHtml;\n",
              "          element.appendChild(docLink);\n",
              "        }\n",
              "      </script>\n",
              "    </div>\n",
              "  </div>\n",
              "  "
            ]
          },
          "metadata": {},
          "execution_count": 4
        }
      ]
    },
    {
      "cell_type": "code",
      "source": [
        "# View data shape\n",
        "df.shape"
      ],
      "metadata": {
        "colab": {
          "base_uri": "https://localhost:8080/"
        },
        "id": "T_CDlQ7lzRki",
        "outputId": "77cd0818-a593-4d6b-c580-0939d6ac8c04"
      },
      "execution_count": null,
      "outputs": [
        {
          "output_type": "execute_result",
          "data": {
            "text/plain": [
              "(38182, 7)"
            ]
          },
          "metadata": {},
          "execution_count": 5
        }
      ]
    },
    {
      "cell_type": "code",
      "source": [
        "# Verify all data has been selected\n",
        "df['ticker'].value_counts()"
      ],
      "metadata": {
        "colab": {
          "base_uri": "https://localhost:8080/"
        },
        "id": "XvIfwA93SR3W",
        "outputId": "20d2e82c-864a-4042-d310-9fb68e6256ca"
      },
      "execution_count": null,
      "outputs": [
        {
          "output_type": "execute_result",
          "data": {
            "text/plain": [
              "JPM    5728\n",
              "AXP    5728\n",
              "C      5728\n",
              "BAC    5728\n",
              "USB    5728\n",
              "WFC    5728\n",
              "DFS    3814\n",
              "Name: ticker, dtype: int64"
            ]
          },
          "metadata": {},
          "execution_count": 6
        }
      ]
    },
    {
      "cell_type": "code",
      "source": [
        "# Check date ranges of selected tickers\n",
        "for i in tickers:\n",
        "  print(i)\n",
        "  tmp = df[df.ticker==i]\n",
        "  print('Minimum Date in Data '+str(min(tmp['timestamp'])))\n",
        "  print('Maximum Date in Data '+str(max(tmp['timestamp'])))"
      ],
      "metadata": {
        "colab": {
          "base_uri": "https://localhost:8080/"
        },
        "id": "TVPgNapxRS8W",
        "outputId": "42417e7c-0d72-4f8f-d948-a7570b25d8f2"
      },
      "execution_count": null,
      "outputs": [
        {
          "output_type": "stream",
          "name": "stdout",
          "text": [
            "DFS\n",
            "Minimum Date in Data 2007-06-14\n",
            "Maximum Date in Data 2022-08-05\n",
            "JPM\n",
            "Minimum Date in Data 1999-11-01\n",
            "Maximum Date in Data 2022-08-05\n",
            "AXP\n",
            "Minimum Date in Data 1999-11-01\n",
            "Maximum Date in Data 2022-08-05\n",
            "C\n",
            "Minimum Date in Data 1999-11-01\n",
            "Maximum Date in Data 2022-08-05\n",
            "BAC\n",
            "Minimum Date in Data 1999-11-01\n",
            "Maximum Date in Data 2022-08-05\n",
            "USB\n",
            "Minimum Date in Data 1999-11-01\n",
            "Maximum Date in Data 2022-08-05\n",
            "WFC\n",
            "Minimum Date in Data 1999-11-01\n",
            "Maximum Date in Data 2022-08-05\n"
          ]
        }
      ]
    },
    {
      "cell_type": "code",
      "source": [
        "# Check Format of date field\n",
        "df['timestamp'].dtype"
      ],
      "metadata": {
        "colab": {
          "base_uri": "https://localhost:8080/"
        },
        "id": "P3wn-9ErZW9Y",
        "outputId": "bc2b9401-994e-419a-9c2a-37891e5651a9"
      },
      "execution_count": null,
      "outputs": [
        {
          "output_type": "execute_result",
          "data": {
            "text/plain": [
              "dtype('O')"
            ]
          },
          "metadata": {},
          "execution_count": 8
        }
      ]
    },
    {
      "cell_type": "code",
      "source": [
        "import datetime\n",
        "\n",
        "def str_to_datetime(s):\n",
        "  split = s.split('-')\n",
        "  year, month, day = int(split[0]), int(split[1]), int(split[2])\n",
        "  return datetime.datetime(year=year, month=month, day=day)\n"
      ],
      "metadata": {
        "id": "rc8qwL1N8wKu"
      },
      "execution_count": null,
      "outputs": []
    },
    {
      "cell_type": "code",
      "source": [
        "df['timestamp'] = df['timestamp'].apply(str_to_datetime)\n",
        "df['timestamp']"
      ],
      "metadata": {
        "colab": {
          "base_uri": "https://localhost:8080/"
        },
        "id": "LFTGs1y68yuM",
        "outputId": "66923013-3431-42be-c348-8e9fd48364a0"
      },
      "execution_count": null,
      "outputs": [
        {
          "output_type": "execute_result",
          "data": {
            "text/plain": [
              "0      2022-08-05\n",
              "1      2022-08-04\n",
              "2      2022-08-03\n",
              "3      2022-08-02\n",
              "4      2022-08-01\n",
              "          ...    \n",
              "5723   1999-11-05\n",
              "5724   1999-11-04\n",
              "5725   1999-11-03\n",
              "5726   1999-11-02\n",
              "5727   1999-11-01\n",
              "Name: timestamp, Length: 38182, dtype: datetime64[ns]"
            ]
          },
          "metadata": {},
          "execution_count": 10
        }
      ]
    },
    {
      "cell_type": "code",
      "source": [
        "# Check Format of date field after change\n",
        "df['timestamp'].dtype\n"
      ],
      "metadata": {
        "colab": {
          "base_uri": "https://localhost:8080/"
        },
        "id": "1nIOjWFSZ209",
        "outputId": "8041054a-f2a0-405c-e0a6-b407097dfe80"
      },
      "execution_count": null,
      "outputs": [
        {
          "output_type": "execute_result",
          "data": {
            "text/plain": [
              "dtype('<M8[ns]')"
            ]
          },
          "metadata": {},
          "execution_count": 11
        }
      ]
    },
    {
      "cell_type": "code",
      "source": [
        "# Create dataframe to analyze close value\n",
        "df = df[['ticker','close','timestamp']]"
      ],
      "metadata": {
        "id": "6LunDRfHwYyG"
      },
      "execution_count": null,
      "outputs": []
    },
    {
      "cell_type": "markdown",
      "source": [
        "# View Stats of Data "
      ],
      "metadata": {
        "id": "PfO3vhRLZF6r"
      }
    },
    {
      "cell_type": "code",
      "source": [
        "# View statistical details of all tickers\n",
        "\n",
        "# Initialize DataFrame with statistics on closing column for all stock\n",
        "df_desc = df.describe()\n",
        "df_desc.rename(columns={'close':'all'},inplace = True)\n",
        "\n",
        "# Add columns to DataFrame with statistics on closing column for each stock\n",
        "for i in tickers:\n",
        "  df_n = df[(df.ticker==i)]\n",
        "  df_n_desc = df_n.describe()\n",
        "  df_n_desc.rename(columns={'close':i},inplace = True)\n",
        "  df_desc = pd.concat([df_desc, df_n_desc], axis=1)\n",
        "\n",
        "print(\"Closing Stock Price Summary Statistics\")  \n",
        "df_desc"
      ],
      "metadata": {
        "colab": {
          "base_uri": "https://localhost:8080/",
          "height": 318
        },
        "id": "EMia760lNhq7",
        "outputId": "04c8a0bb-329a-4d72-a3e1-7833e4770d3e"
      },
      "execution_count": null,
      "outputs": [
        {
          "output_type": "stream",
          "name": "stdout",
          "text": [
            "Closing Stock Price Summary Statistics\n"
          ]
        },
        {
          "output_type": "execute_result",
          "data": {
            "text/plain": [
              "              all        DFS        JPM        AXP          C        BAC  \\\n",
              "count 38182.00000 3814.00000 5728.00000 5728.00000 5728.00000 5728.00000   \n",
              "mean     49.18537   51.91849   63.03598   71.54406   45.10107   34.45269   \n",
              "std      28.59390   30.41691   35.04254   37.10509   18.96044   20.85029   \n",
              "min       1.02000    4.89000   15.45000   10.26000    1.02000    3.14000   \n",
              "25%      31.00000   23.41500   38.49000   45.81000   38.01750   15.76000   \n",
              "50%      45.83000   54.35500   47.40000   57.73500   48.29000   29.94000   \n",
              "75%      57.75750   70.66500   84.15750   90.00000   54.88000   48.25250   \n",
              "max     198.38000  135.38000  171.78000  198.38000   81.91000   89.01000   \n",
              "\n",
              "             USB        WFC  \n",
              "count 5728.00000 5728.00000  \n",
              "mean    35.18607   43.97251  \n",
              "std     11.86651   11.88572  \n",
              "min      8.82000    8.12000  \n",
              "25%     25.05000   33.77000  \n",
              "50%     32.47000   46.24500  \n",
              "75%     43.72250   53.16000  \n",
              "max     63.25000   73.00000  "
            ],
            "text/html": [
              "\n",
              "  <div id=\"df-ab72491f-d312-4dd4-9ea2-ad2b8b03bd51\">\n",
              "    <div class=\"colab-df-container\">\n",
              "      <div>\n",
              "<style scoped>\n",
              "    .dataframe tbody tr th:only-of-type {\n",
              "        vertical-align: middle;\n",
              "    }\n",
              "\n",
              "    .dataframe tbody tr th {\n",
              "        vertical-align: top;\n",
              "    }\n",
              "\n",
              "    .dataframe thead th {\n",
              "        text-align: right;\n",
              "    }\n",
              "</style>\n",
              "<table border=\"1\" class=\"dataframe\">\n",
              "  <thead>\n",
              "    <tr style=\"text-align: right;\">\n",
              "      <th></th>\n",
              "      <th>all</th>\n",
              "      <th>DFS</th>\n",
              "      <th>JPM</th>\n",
              "      <th>AXP</th>\n",
              "      <th>C</th>\n",
              "      <th>BAC</th>\n",
              "      <th>USB</th>\n",
              "      <th>WFC</th>\n",
              "    </tr>\n",
              "  </thead>\n",
              "  <tbody>\n",
              "    <tr>\n",
              "      <th>count</th>\n",
              "      <td>38182.00000</td>\n",
              "      <td>3814.00000</td>\n",
              "      <td>5728.00000</td>\n",
              "      <td>5728.00000</td>\n",
              "      <td>5728.00000</td>\n",
              "      <td>5728.00000</td>\n",
              "      <td>5728.00000</td>\n",
              "      <td>5728.00000</td>\n",
              "    </tr>\n",
              "    <tr>\n",
              "      <th>mean</th>\n",
              "      <td>49.18537</td>\n",
              "      <td>51.91849</td>\n",
              "      <td>63.03598</td>\n",
              "      <td>71.54406</td>\n",
              "      <td>45.10107</td>\n",
              "      <td>34.45269</td>\n",
              "      <td>35.18607</td>\n",
              "      <td>43.97251</td>\n",
              "    </tr>\n",
              "    <tr>\n",
              "      <th>std</th>\n",
              "      <td>28.59390</td>\n",
              "      <td>30.41691</td>\n",
              "      <td>35.04254</td>\n",
              "      <td>37.10509</td>\n",
              "      <td>18.96044</td>\n",
              "      <td>20.85029</td>\n",
              "      <td>11.86651</td>\n",
              "      <td>11.88572</td>\n",
              "    </tr>\n",
              "    <tr>\n",
              "      <th>min</th>\n",
              "      <td>1.02000</td>\n",
              "      <td>4.89000</td>\n",
              "      <td>15.45000</td>\n",
              "      <td>10.26000</td>\n",
              "      <td>1.02000</td>\n",
              "      <td>3.14000</td>\n",
              "      <td>8.82000</td>\n",
              "      <td>8.12000</td>\n",
              "    </tr>\n",
              "    <tr>\n",
              "      <th>25%</th>\n",
              "      <td>31.00000</td>\n",
              "      <td>23.41500</td>\n",
              "      <td>38.49000</td>\n",
              "      <td>45.81000</td>\n",
              "      <td>38.01750</td>\n",
              "      <td>15.76000</td>\n",
              "      <td>25.05000</td>\n",
              "      <td>33.77000</td>\n",
              "    </tr>\n",
              "    <tr>\n",
              "      <th>50%</th>\n",
              "      <td>45.83000</td>\n",
              "      <td>54.35500</td>\n",
              "      <td>47.40000</td>\n",
              "      <td>57.73500</td>\n",
              "      <td>48.29000</td>\n",
              "      <td>29.94000</td>\n",
              "      <td>32.47000</td>\n",
              "      <td>46.24500</td>\n",
              "    </tr>\n",
              "    <tr>\n",
              "      <th>75%</th>\n",
              "      <td>57.75750</td>\n",
              "      <td>70.66500</td>\n",
              "      <td>84.15750</td>\n",
              "      <td>90.00000</td>\n",
              "      <td>54.88000</td>\n",
              "      <td>48.25250</td>\n",
              "      <td>43.72250</td>\n",
              "      <td>53.16000</td>\n",
              "    </tr>\n",
              "    <tr>\n",
              "      <th>max</th>\n",
              "      <td>198.38000</td>\n",
              "      <td>135.38000</td>\n",
              "      <td>171.78000</td>\n",
              "      <td>198.38000</td>\n",
              "      <td>81.91000</td>\n",
              "      <td>89.01000</td>\n",
              "      <td>63.25000</td>\n",
              "      <td>73.00000</td>\n",
              "    </tr>\n",
              "  </tbody>\n",
              "</table>\n",
              "</div>\n",
              "      <button class=\"colab-df-convert\" onclick=\"convertToInteractive('df-ab72491f-d312-4dd4-9ea2-ad2b8b03bd51')\"\n",
              "              title=\"Convert this dataframe to an interactive table.\"\n",
              "              style=\"display:none;\">\n",
              "        \n",
              "  <svg xmlns=\"http://www.w3.org/2000/svg\" height=\"24px\"viewBox=\"0 0 24 24\"\n",
              "       width=\"24px\">\n",
              "    <path d=\"M0 0h24v24H0V0z\" fill=\"none\"/>\n",
              "    <path d=\"M18.56 5.44l.94 2.06.94-2.06 2.06-.94-2.06-.94-.94-2.06-.94 2.06-2.06.94zm-11 1L8.5 8.5l.94-2.06 2.06-.94-2.06-.94L8.5 2.5l-.94 2.06-2.06.94zm10 10l.94 2.06.94-2.06 2.06-.94-2.06-.94-.94-2.06-.94 2.06-2.06.94z\"/><path d=\"M17.41 7.96l-1.37-1.37c-.4-.4-.92-.59-1.43-.59-.52 0-1.04.2-1.43.59L10.3 9.45l-7.72 7.72c-.78.78-.78 2.05 0 2.83L4 21.41c.39.39.9.59 1.41.59.51 0 1.02-.2 1.41-.59l7.78-7.78 2.81-2.81c.8-.78.8-2.07 0-2.86zM5.41 20L4 18.59l7.72-7.72 1.47 1.35L5.41 20z\"/>\n",
              "  </svg>\n",
              "      </button>\n",
              "      \n",
              "  <style>\n",
              "    .colab-df-container {\n",
              "      display:flex;\n",
              "      flex-wrap:wrap;\n",
              "      gap: 12px;\n",
              "    }\n",
              "\n",
              "    .colab-df-convert {\n",
              "      background-color: #E8F0FE;\n",
              "      border: none;\n",
              "      border-radius: 50%;\n",
              "      cursor: pointer;\n",
              "      display: none;\n",
              "      fill: #1967D2;\n",
              "      height: 32px;\n",
              "      padding: 0 0 0 0;\n",
              "      width: 32px;\n",
              "    }\n",
              "\n",
              "    .colab-df-convert:hover {\n",
              "      background-color: #E2EBFA;\n",
              "      box-shadow: 0px 1px 2px rgba(60, 64, 67, 0.3), 0px 1px 3px 1px rgba(60, 64, 67, 0.15);\n",
              "      fill: #174EA6;\n",
              "    }\n",
              "\n",
              "    [theme=dark] .colab-df-convert {\n",
              "      background-color: #3B4455;\n",
              "      fill: #D2E3FC;\n",
              "    }\n",
              "\n",
              "    [theme=dark] .colab-df-convert:hover {\n",
              "      background-color: #434B5C;\n",
              "      box-shadow: 0px 1px 3px 1px rgba(0, 0, 0, 0.15);\n",
              "      filter: drop-shadow(0px 1px 2px rgba(0, 0, 0, 0.3));\n",
              "      fill: #FFFFFF;\n",
              "    }\n",
              "  </style>\n",
              "\n",
              "      <script>\n",
              "        const buttonEl =\n",
              "          document.querySelector('#df-ab72491f-d312-4dd4-9ea2-ad2b8b03bd51 button.colab-df-convert');\n",
              "        buttonEl.style.display =\n",
              "          google.colab.kernel.accessAllowed ? 'block' : 'none';\n",
              "\n",
              "        async function convertToInteractive(key) {\n",
              "          const element = document.querySelector('#df-ab72491f-d312-4dd4-9ea2-ad2b8b03bd51');\n",
              "          const dataTable =\n",
              "            await google.colab.kernel.invokeFunction('convertToInteractive',\n",
              "                                                     [key], {});\n",
              "          if (!dataTable) return;\n",
              "\n",
              "          const docLinkHtml = 'Like what you see? Visit the ' +\n",
              "            '<a target=\"_blank\" href=https://colab.research.google.com/notebooks/data_table.ipynb>data table notebook</a>'\n",
              "            + ' to learn more about interactive tables.';\n",
              "          element.innerHTML = '';\n",
              "          dataTable['output_type'] = 'display_data';\n",
              "          await google.colab.output.renderOutput(dataTable, element);\n",
              "          const docLink = document.createElement('div');\n",
              "          docLink.innerHTML = docLinkHtml;\n",
              "          element.appendChild(docLink);\n",
              "        }\n",
              "      </script>\n",
              "    </div>\n",
              "  </div>\n",
              "  "
            ]
          },
          "metadata": {},
          "execution_count": 13
        }
      ]
    },
    {
      "cell_type": "code",
      "source": [
        "# View Histogram of Data\n",
        "import matplotlib.pyplot as plt\n",
        "from matplotlib.pyplot import figure\n",
        "\n",
        "figure(figsize=(8, 6), dpi=80)\n",
        "\n",
        "df['close'].hist()\n",
        "plt.title('Closing Stock Prices Histogram')\n",
        "plt.tight_layout()\n",
        "plt.xlabel('Closing Price Bin')\n",
        "plt.ylabel('Closing Price Frequency')\n",
        "plt.show()"
      ],
      "metadata": {
        "colab": {
          "base_uri": "https://localhost:8080/",
          "height": 503
        },
        "id": "krcYAGxFuPUp",
        "outputId": "3f250beb-c31d-4f6d-ad10-052e880359a8"
      },
      "execution_count": null,
      "outputs": [
        {
          "output_type": "display_data",
          "data": {
            "text/plain": [
              "<Figure size 640x480 with 1 Axes>"
            ],
            "image/png": "[encoded data removed]"
          },
          "metadata": {
            "needs_background": "light"
          }
        }
      ]
    },
    {
      "cell_type": "code",
      "source": [
        "# View histogram for each stock\n",
        "n=1\n",
        "for i in tickers:\n",
        "  df_n = df[(df.ticker==i)]\n",
        "  plt.subplot(3,3,n)\n",
        "  df_n['close'].hist()\n",
        "  plt.title(i)\n",
        "  plt.tight_layout()\n",
        "  n=n+1\n",
        "\n",
        "plt.show()"
      ],
      "metadata": {
        "colab": {
          "base_uri": "https://localhost:8080/",
          "height": 297
        },
        "id": "Xj-symhJpx4_",
        "outputId": "0b14ce8c-d290-4650-8343-da33b3266406"
      },
      "execution_count": null,
      "outputs": [
        {
          "output_type": "display_data",
          "data": {
            "text/plain": [
              "<Figure size 432x288 with 7 Axes>"
            ],
            "image/png": "[encoded data removed]"
          },
          "metadata": {
            "needs_background": "light"
          }
        }
      ]
    },
    {
      "cell_type": "code",
      "source": [
        "# Plot closing prices for all stocks over time\n",
        "figure(figsize=(8, 6), dpi=80)\n",
        "\n",
        "ax = plt.gca()\n",
        "df_sum = df.groupby(['timestamp']).sum()\n",
        "df_sum = df_sum.reset_index()\n",
        "\n",
        "df_sum.plot(kind='line',x='timestamp',y='close', ax=ax, title='Closing Stock Prices')\n"
      ],
      "metadata": {
        "colab": {
          "base_uri": "https://localhost:8080/",
          "height": 438
        },
        "id": "cnAxVk8I4RIE",
        "outputId": "4e9c9a3a-3e17-468b-a3c8-7f70e01fb86a"
      },
      "execution_count": null,
      "outputs": [
        {
          "output_type": "execute_result",
          "data": {
            "text/plain": [
              "<matplotlib.axes._subplots.AxesSubplot at 0x7f415b2c9910>"
            ]
          },
          "metadata": {},
          "execution_count": 16
        },
        {
          "output_type": "display_data",
          "data": {
            "text/plain": [
              "<Figure size 640x480 with 1 Axes>"
            ],
            "image/png": "[encoded data removed]"
          },
          "metadata": {
            "needs_background": "light"
          }
        }
      ]
    },
    {
      "cell_type": "code",
      "source": [
        "# Plot closing prices for each stock over time\n",
        "figure(figsize=(8, 6), dpi=80)\n",
        "\n",
        "ax = plt.gca()\n",
        "\n",
        "for i in tickers:\n",
        "  df_n = df[(df.ticker==i)]\n",
        "  df_n.plot(kind='line',x='timestamp',y='close',label=i, ax=ax, title='Closing Stock Prices')\n",
        "\n",
        "plt.legend(tickers)"
      ],
      "metadata": {
        "colab": {
          "base_uri": "https://localhost:8080/",
          "height": 438
        },
        "id": "H-IYiiKzbHaY",
        "outputId": "e3e9ca45-5ffe-46f5-90ca-a5fe0994d736"
      },
      "execution_count": null,
      "outputs": [
        {
          "output_type": "execute_result",
          "data": {
            "text/plain": [
              "<matplotlib.legend.Legend at 0x7f415b3c0390>"
            ]
          },
          "metadata": {},
          "execution_count": 17
        },
        {
          "output_type": "display_data",
          "data": {
            "text/plain": [
              "<Figure size 640x480 with 1 Axes>"
            ],
            "image/png": "[encoded data removed]"
          },
          "metadata": {
            "needs_background": "light"
          }
        }
      ]
    },
    {
      "cell_type": "markdown",
      "source": [
        "# Model "
      ],
      "metadata": {
        "id": "QW6Sy6K8HJyj"
      }
    },
    {
      "cell_type": "code",
      "source": [
        "df.head()"
      ],
      "metadata": {
        "colab": {
          "base_uri": "https://localhost:8080/",
          "height": 206
        },
        "id": "ZzZ_VyPoIFYe",
        "outputId": "458710c8-fa48-4e1d-fdbd-3dc2c1bd2ce2"
      },
      "execution_count": null,
      "outputs": [
        {
          "output_type": "execute_result",
          "data": {
            "text/plain": [
              "  ticker     close  timestamp\n",
              "0    DFS 102.35000 2022-08-05\n",
              "1    DFS 102.36000 2022-08-04\n",
              "2    DFS 102.76000 2022-08-03\n",
              "3    DFS 100.16000 2022-08-02\n",
              "4    DFS 102.22000 2022-08-01"
            ],
            "text/html": [
              "\n",
              "  <div id=\"df-874df332-7c06-4bbc-ad58-965b27a940e1\">\n",
              "    <div class=\"colab-df-container\">\n",
              "      <div>\n",
              "<style scoped>\n",
              "    .dataframe tbody tr th:only-of-type {\n",
              "        vertical-align: middle;\n",
              "    }\n",
              "\n",
              "    .dataframe tbody tr th {\n",
              "        vertical-align: top;\n",
              "    }\n",
              "\n",
              "    .dataframe thead th {\n",
              "        text-align: right;\n",
              "    }\n",
              "</style>\n",
              "<table border=\"1\" class=\"dataframe\">\n",
              "  <thead>\n",
              "    <tr style=\"text-align: right;\">\n",
              "      <th></th>\n",
              "      <th>ticker</th>\n",
              "      <th>close</th>\n",
              "      <th>timestamp</th>\n",
              "    </tr>\n",
              "  </thead>\n",
              "  <tbody>\n",
              "    <tr>\n",
              "      <th>0</th>\n",
              "      <td>DFS</td>\n",
              "      <td>102.35000</td>\n",
              "      <td>2022-08-05</td>\n",
              "    </tr>\n",
              "    <tr>\n",
              "      <th>1</th>\n",
              "      <td>DFS</td>\n",
              "      <td>102.36000</td>\n",
              "      <td>2022-08-04</td>\n",
              "    </tr>\n",
              "    <tr>\n",
              "      <th>2</th>\n",
              "      <td>DFS</td>\n",
              "      <td>102.76000</td>\n",
              "      <td>2022-08-03</td>\n",
              "    </tr>\n",
              "    <tr>\n",
              "      <th>3</th>\n",
              "      <td>DFS</td>\n",
              "      <td>100.16000</td>\n",
              "      <td>2022-08-02</td>\n",
              "    </tr>\n",
              "    <tr>\n",
              "      <th>4</th>\n",
              "      <td>DFS</td>\n",
              "      <td>102.22000</td>\n",
              "      <td>2022-08-01</td>\n",
              "    </tr>\n",
              "  </tbody>\n",
              "</table>\n",
              "</div>\n",
              "      <button class=\"colab-df-convert\" onclick=\"convertToInteractive('df-874df332-7c06-4bbc-ad58-965b27a940e1')\"\n",
              "              title=\"Convert this dataframe to an interactive table.\"\n",
              "              style=\"display:none;\">\n",
              "        \n",
              "  <svg xmlns=\"http://www.w3.org/2000/svg\" height=\"24px\"viewBox=\"0 0 24 24\"\n",
              "       width=\"24px\">\n",
              "    <path d=\"M0 0h24v24H0V0z\" fill=\"none\"/>\n",
              "    <path d=\"M18.56 5.44l.94 2.06.94-2.06 2.06-.94-2.06-.94-.94-2.06-.94 2.06-2.06.94zm-11 1L8.5 8.5l.94-2.06 2.06-.94-2.06-.94L8.5 2.5l-.94 2.06-2.06.94zm10 10l.94 2.06.94-2.06 2.06-.94-2.06-.94-.94-2.06-.94 2.06-2.06.94z\"/><path d=\"M17.41 7.96l-1.37-1.37c-.4-.4-.92-.59-1.43-.59-.52 0-1.04.2-1.43.59L10.3 9.45l-7.72 7.72c-.78.78-.78 2.05 0 2.83L4 21.41c.39.39.9.59 1.41.59.51 0 1.02-.2 1.41-.59l7.78-7.78 2.81-2.81c.8-.78.8-2.07 0-2.86zM5.41 20L4 18.59l7.72-7.72 1.47 1.35L5.41 20z\"/>\n",
              "  </svg>\n",
              "      </button>\n",
              "      \n",
              "  <style>\n",
              "    .colab-df-container {\n",
              "      display:flex;\n",
              "      flex-wrap:wrap;\n",
              "      gap: 12px;\n",
              "    }\n",
              "\n",
              "    .colab-df-convert {\n",
              "      background-color: #E8F0FE;\n",
              "      border: none;\n",
              "      border-radius: 50%;\n",
              "      cursor: pointer;\n",
              "      display: none;\n",
              "      fill: #1967D2;\n",
              "      height: 32px;\n",
              "      padding: 0 0 0 0;\n",
              "      width: 32px;\n",
              "    }\n",
              "\n",
              "    .colab-df-convert:hover {\n",
              "      background-color: #E2EBFA;\n",
              "      box-shadow: 0px 1px 2px rgba(60, 64, 67, 0.3), 0px 1px 3px 1px rgba(60, 64, 67, 0.15);\n",
              "      fill: #174EA6;\n",
              "    }\n",
              "\n",
              "    [theme=dark] .colab-df-convert {\n",
              "      background-color: #3B4455;\n",
              "      fill: #D2E3FC;\n",
              "    }\n",
              "\n",
              "    [theme=dark] .colab-df-convert:hover {\n",
              "      background-color: #434B5C;\n",
              "      box-shadow: 0px 1px 3px 1px rgba(0, 0, 0, 0.15);\n",
              "      filter: drop-shadow(0px 1px 2px rgba(0, 0, 0, 0.3));\n",
              "      fill: #FFFFFF;\n",
              "    }\n",
              "  </style>\n",
              "\n",
              "      <script>\n",
              "        const buttonEl =\n",
              "          document.querySelector('#df-874df332-7c06-4bbc-ad58-965b27a940e1 button.colab-df-convert');\n",
              "        buttonEl.style.display =\n",
              "          google.colab.kernel.accessAllowed ? 'block' : 'none';\n",
              "\n",
              "        async function convertToInteractive(key) {\n",
              "          const element = document.querySelector('#df-874df332-7c06-4bbc-ad58-965b27a940e1');\n",
              "          const dataTable =\n",
              "            await google.colab.kernel.invokeFunction('convertToInteractive',\n",
              "                                                     [key], {});\n",
              "          if (!dataTable) return;\n",
              "\n",
              "          const docLinkHtml = 'Like what you see? Visit the ' +\n",
              "            '<a target=\"_blank\" href=https://colab.research.google.com/notebooks/data_table.ipynb>data table notebook</a>'\n",
              "            + ' to learn more about interactive tables.';\n",
              "          element.innerHTML = '';\n",
              "          dataTable['output_type'] = 'display_data';\n",
              "          await google.colab.output.renderOutput(dataTable, element);\n",
              "          const docLink = document.createElement('div');\n",
              "          docLink.innerHTML = docLinkHtml;\n",
              "          element.appendChild(docLink);\n",
              "        }\n",
              "      </script>\n",
              "    </div>\n",
              "  </div>\n",
              "  "
            ]
          },
          "metadata": {},
          "execution_count": 18
        }
      ]
    },
    {
      "cell_type": "code",
      "source": [
        "# Create a dictionary of dataframes (one dataframe for each stock)\n",
        "\n",
        "# Create empty dictionary\n",
        "d = {}\n",
        "\n",
        "for i in tickers:\n",
        "  d[i] = df[(df.ticker==i)]\n",
        "\n",
        "  #Keep only the timestamp and close columns\n",
        "  d[i] = d[i][['timestamp','close']]\n",
        "  d[i].rename(columns={'timestamp':'Date','close': 'Close'},inplace = True)\n",
        "  # Make the date column the index\n",
        "  d[i].index = d[i].pop('Date')"
      ],
      "metadata": {
        "id": "lYwjOkoP6Pg_"
      },
      "execution_count": null,
      "outputs": []
    },
    {
      "cell_type": "code",
      "source": [
        "# View one dataframe's values\n",
        "d['DFS'].head()"
      ],
      "metadata": {
        "colab": {
          "base_uri": "https://localhost:8080/",
          "height": 238
        },
        "id": "K27CrGx9BIsr",
        "outputId": "52aa7a73-9af1-4a78-c8ad-e3a2993d20b5"
      },
      "execution_count": null,
      "outputs": [
        {
          "output_type": "execute_result",
          "data": {
            "text/plain": [
              "               Close\n",
              "Date                \n",
              "2022-08-05 102.35000\n",
              "2022-08-04 102.36000\n",
              "2022-08-03 102.76000\n",
              "2022-08-02 100.16000\n",
              "2022-08-01 102.22000"
            ],
            "text/html": [
              "\n",
              "  <div id=\"df-d491b7dd-8659-4edc-b77b-18829671bcbb\">\n",
              "    <div class=\"colab-df-container\">\n",
              "      <div>\n",
              "<style scoped>\n",
              "    .dataframe tbody tr th:only-of-type {\n",
              "        vertical-align: middle;\n",
              "    }\n",
              "\n",
              "    .dataframe tbody tr th {\n",
              "        vertical-align: top;\n",
              "    }\n",
              "\n",
              "    .dataframe thead th {\n",
              "        text-align: right;\n",
              "    }\n",
              "</style>\n",
              "<table border=\"1\" class=\"dataframe\">\n",
              "  <thead>\n",
              "    <tr style=\"text-align: right;\">\n",
              "      <th></th>\n",
              "      <th>Close</th>\n",
              "    </tr>\n",
              "    <tr>\n",
              "      <th>Date</th>\n",
              "      <th></th>\n",
              "    </tr>\n",
              "  </thead>\n",
              "  <tbody>\n",
              "    <tr>\n",
              "      <th>2022-08-05</th>\n",
              "      <td>102.35000</td>\n",
              "    </tr>\n",
              "    <tr>\n",
              "      <th>2022-08-04</th>\n",
              "      <td>102.36000</td>\n",
              "    </tr>\n",
              "    <tr>\n",
              "      <th>2022-08-03</th>\n",
              "      <td>102.76000</td>\n",
              "    </tr>\n",
              "    <tr>\n",
              "      <th>2022-08-02</th>\n",
              "      <td>100.16000</td>\n",
              "    </tr>\n",
              "    <tr>\n",
              "      <th>2022-08-01</th>\n",
              "      <td>102.22000</td>\n",
              "    </tr>\n",
              "  </tbody>\n",
              "</table>\n",
              "</div>\n",
              "      <button class=\"colab-df-convert\" onclick=\"convertToInteractive('df-d491b7dd-8659-4edc-b77b-18829671bcbb')\"\n",
              "              title=\"Convert this dataframe to an interactive table.\"\n",
              "              style=\"display:none;\">\n",
              "        \n",
              "  <svg xmlns=\"http://www.w3.org/2000/svg\" height=\"24px\"viewBox=\"0 0 24 24\"\n",
              "       width=\"24px\">\n",
              "    <path d=\"M0 0h24v24H0V0z\" fill=\"none\"/>\n",
              "    <path d=\"M18.56 5.44l.94 2.06.94-2.06 2.06-.94-2.06-.94-.94-2.06-.94 2.06-2.06.94zm-11 1L8.5 8.5l.94-2.06 2.06-.94-2.06-.94L8.5 2.5l-.94 2.06-2.06.94zm10 10l.94 2.06.94-2.06 2.06-.94-2.06-.94-.94-2.06-.94 2.06-2.06.94z\"/><path d=\"M17.41 7.96l-1.37-1.37c-.4-.4-.92-.59-1.43-.59-.52 0-1.04.2-1.43.59L10.3 9.45l-7.72 7.72c-.78.78-.78 2.05 0 2.83L4 21.41c.39.39.9.59 1.41.59.51 0 1.02-.2 1.41-.59l7.78-7.78 2.81-2.81c.8-.78.8-2.07 0-2.86zM5.41 20L4 18.59l7.72-7.72 1.47 1.35L5.41 20z\"/>\n",
              "  </svg>\n",
              "      </button>\n",
              "      \n",
              "  <style>\n",
              "    .colab-df-container {\n",
              "      display:flex;\n",
              "      flex-wrap:wrap;\n",
              "      gap: 12px;\n",
              "    }\n",
              "\n",
              "    .colab-df-convert {\n",
              "      background-color: #E8F0FE;\n",
              "      border: none;\n",
              "      border-radius: 50%;\n",
              "      cursor: pointer;\n",
              "      display: none;\n",
              "      fill: #1967D2;\n",
              "      height: 32px;\n",
              "      padding: 0 0 0 0;\n",
              "      width: 32px;\n",
              "    }\n",
              "\n",
              "    .colab-df-convert:hover {\n",
              "      background-color: #E2EBFA;\n",
              "      box-shadow: 0px 1px 2px rgba(60, 64, 67, 0.3), 0px 1px 3px 1px rgba(60, 64, 67, 0.15);\n",
              "      fill: #174EA6;\n",
              "    }\n",
              "\n",
              "    [theme=dark] .colab-df-convert {\n",
              "      background-color: #3B4455;\n",
              "      fill: #D2E3FC;\n",
              "    }\n",
              "\n",
              "    [theme=dark] .colab-df-convert:hover {\n",
              "      background-color: #434B5C;\n",
              "      box-shadow: 0px 1px 3px 1px rgba(0, 0, 0, 0.15);\n",
              "      filter: drop-shadow(0px 1px 2px rgba(0, 0, 0, 0.3));\n",
              "      fill: #FFFFFF;\n",
              "    }\n",
              "  </style>\n",
              "\n",
              "      <script>\n",
              "        const buttonEl =\n",
              "          document.querySelector('#df-d491b7dd-8659-4edc-b77b-18829671bcbb button.colab-df-convert');\n",
              "        buttonEl.style.display =\n",
              "          google.colab.kernel.accessAllowed ? 'block' : 'none';\n",
              "\n",
              "        async function convertToInteractive(key) {\n",
              "          const element = document.querySelector('#df-d491b7dd-8659-4edc-b77b-18829671bcbb');\n",
              "          const dataTable =\n",
              "            await google.colab.kernel.invokeFunction('convertToInteractive',\n",
              "                                                     [key], {});\n",
              "          if (!dataTable) return;\n",
              "\n",
              "          const docLinkHtml = 'Like what you see? Visit the ' +\n",
              "            '<a target=\"_blank\" href=https://colab.research.google.com/notebooks/data_table.ipynb>data table notebook</a>'\n",
              "            + ' to learn more about interactive tables.';\n",
              "          element.innerHTML = '';\n",
              "          dataTable['output_type'] = 'display_data';\n",
              "          await google.colab.output.renderOutput(dataTable, element);\n",
              "          const docLink = document.createElement('div');\n",
              "          docLink.innerHTML = docLinkHtml;\n",
              "          element.appendChild(docLink);\n",
              "        }\n",
              "      </script>\n",
              "    </div>\n",
              "  </div>\n",
              "  "
            ]
          },
          "metadata": {},
          "execution_count": 20
        }
      ]
    },
    {
      "cell_type": "code",
      "source": [
        "# Get our first and last values\n",
        "# We need the first 4 starting dates, \n",
        "# as we need to start at least on day 4 to use previous 3 day's values\n",
        "d['DFS'].tail(4), d['DFS'].head(1)"
      ],
      "metadata": {
        "colab": {
          "base_uri": "https://localhost:8080/"
        },
        "id": "ev5yh8gG-Juq",
        "outputId": "f5952a69-9439-4627-9e7a-5706f4eae739"
      },
      "execution_count": null,
      "outputs": [
        {
          "output_type": "execute_result",
          "data": {
            "text/plain": [
              "(              Close\n",
              " Date               \n",
              " 2007-06-19 29.70000\n",
              " 2007-06-18 29.93000\n",
              " 2007-06-15 29.08000\n",
              " 2007-06-14 28.75000,                Close\n",
              " Date                \n",
              " 2022-08-05 102.35000)"
            ]
          },
          "metadata": {},
          "execution_count": 21
        }
      ]
    },
    {
      "cell_type": "code",
      "source": [
        "# Creat dataframe that is just the Discover dataframe\n",
        "df_DFS = d['DFS']"
      ],
      "metadata": {
        "id": "7jwCKIfZBdMv"
      },
      "execution_count": null,
      "outputs": []
    },
    {
      "cell_type": "code",
      "source": [
        "# Put the dataframe in ascending order based on the index (the date)\n",
        "df_DFS = df_DFS.sort_index()"
      ],
      "metadata": {
        "id": "YFUlx7cYJnyR"
      },
      "execution_count": null,
      "outputs": []
    },
    {
      "cell_type": "code",
      "source": [
        "# Set the starting date equal to the first date in the data\n",
        "first_date = str_to_datetime('2007-06-19')\n",
        "\n",
        "target_date = first_date\n",
        "\n",
        "# Get the date 7 days from now\n",
        "next_week_dt = target_date+datetime.timedelta(days=7)\n",
        "\n",
        "# Create 'next_week' which is the next 7 days of data\n",
        "next_week = df_DFS.loc[target_date:next_week_dt]\n",
        "\n",
        "# Convert the dates to date formats\n",
        "str1 = target_date.strftime('%Y-%m-%d')\n",
        "str2 = next_week_dt.strftime('%Y-%m-%d')\n",
        "\n",
        "# Set the values of next week\n",
        "next_week = df_DFS.loc[target_date:next_week_dt]\n",
        "\n",
        "# Create the \n",
        "next_datetime_str = str(next_week.head(2).tail(1).index.values[0])\n"
      ],
      "metadata": {
        "id": "sT3EbUOlB59r"
      },
      "execution_count": null,
      "outputs": []
    },
    {
      "cell_type": "code",
      "source": [
        "# Create windowed data function to get value and previous 3 values for each day\n",
        "# This is what will be used by model\n",
        "def df_to_windowed_df(dataframe, first_date_str, last_date_str, n=3):\n",
        "  # set first and last date to date format using custom function \n",
        "  first_date = str_to_datetime(first_date_str)\n",
        "  last_date  = str_to_datetime(last_date_str)\n",
        "\n",
        "  # the target date is the first_date\n",
        "  target_date = first_date\n",
        "  \n",
        "  # create empty list for dates, X, & Y\n",
        "  dates = []\n",
        "  X, Y = [], []\n",
        "\n",
        "  # Set checker to False\n",
        "  last_time = False\n",
        "\n",
        "\n",
        "  while True:\n",
        "    # Get target date, iterate\n",
        "    df_subset = dataframe.loc[:target_date].tail(n+1)\n",
        "    \n",
        "    # Do this whle the subset length doesn't equal n + 1 (value passed to function) \n",
        "    if len(df_subset) != n+1:\n",
        "      print(f'Error: Window of size {n} is too large for date {target_date}')\n",
        "      return\n",
        "\n",
        "    # set the values equal to the closing price\n",
        "    values = df_subset['Close'].to_numpy()\n",
        "    # set x & y values\n",
        "    x, y = values[:-1], values[-1]\n",
        "\n",
        "    # Append the date, X , & Y to each applicable list\n",
        "    dates.append(target_date)\n",
        "    X.append(x)\n",
        "    Y.append(y)\n",
        "\n",
        "    # Set next week variable equaly to 7 days from given date\n",
        "    next_week_dt = target_date+datetime.timedelta(days=7)\n",
        "\n",
        "    # Set tartet and next week dates to str formats\n",
        "    str1 = target_date.strftime('%Y-%m-%d')\n",
        "    str2 = next_week_dt.strftime('%Y-%m-%d')\n",
        "\n",
        "    # Set next week equal to next range of target date to target date + 7 days\n",
        "    next_week = dataframe.loc[str1:str2]\n",
        "    next_datetime_str = str(next_week.head(2).tail(1).index.values[0])\n",
        "    next_date_str = next_datetime_str.split('T')[0]\n",
        "    year_month_day = next_date_str.split('-')\n",
        "    year, month, day = year_month_day\n",
        "    next_date = datetime.datetime(day=int(day), month=int(month), year=int(year))\n",
        "    \n",
        "    if last_time:\n",
        "      break\n",
        "    \n",
        "    target_date = next_date\n",
        "\n",
        "    if target_date == last_date:\n",
        "      last_time = True\n",
        "  # Create empty dataframe and add dates to new Target DAtes Columns  \n",
        "  ret_df = pd.DataFrame({})\n",
        "  ret_df['Target Date'] = dates\n",
        "  \n",
        "  # Add X values to dataframe\n",
        "  X = np.array(X)\n",
        "  for i in range(0, n):\n",
        "    X[:, i]\n",
        "    ret_df[f'Target-{n-i}'] = X[:, i]\n",
        "    \n",
        "  # Add Y values to dataframe\n",
        "  ret_df['Target'] = Y\n",
        "\n",
        "  return ret_df\n"
      ],
      "metadata": {
        "id": "Z7iVHHSb65lB"
      },
      "execution_count": null,
      "outputs": []
    },
    {
      "cell_type": "code",
      "source": [
        "# Run Function\n",
        "windowed_df = df_to_windowed_df(df_DFS, \n",
        "                                '2022-01-03',\n",
        "                                '2022-07-29', \n",
        "                                n=3)\n",
        "windowed_df"
      ],
      "metadata": {
        "colab": {
          "base_uri": "https://localhost:8080/",
          "height": 424
        },
        "id": "c75kgYQU9nuc",
        "outputId": "709eb068-84ce-44cd-ae21-a7a3ff69a9cb"
      },
      "execution_count": null,
      "outputs": [
        {
          "output_type": "execute_result",
          "data": {
            "text/plain": [
              "    Target Date  Target-3  Target-2  Target-1    Target\n",
              "0    2022-01-03 115.77000 115.83000 115.56000 118.64000\n",
              "1    2022-01-04 115.83000 115.56000 118.64000 122.30000\n",
              "2    2022-01-05 115.56000 118.64000 122.30000 120.64000\n",
              "3    2022-01-06 118.64000 122.30000 120.64000 122.82000\n",
              "4    2022-01-07 122.30000 120.64000 122.82000 125.69000\n",
              "..          ...       ...       ...       ...       ...\n",
              "139  2022-07-25 109.80000 100.00000 100.00000 100.02000\n",
              "140  2022-07-26 100.00000 100.00000 100.02000  98.36000\n",
              "141  2022-07-27 100.00000 100.02000  98.36000 100.29000\n",
              "142  2022-07-28 100.02000  98.36000 100.29000  99.48000\n",
              "143  2022-07-29  98.36000 100.29000  99.48000 101.00000\n",
              "\n",
              "[144 rows x 5 columns]"
            ],
            "text/html": [
              "\n",
              "  <div id=\"df-738feb13-74d5-4db1-91d6-958048472d5c\">\n",
              "    <div class=\"colab-df-container\">\n",
              "      <div>\n",
              "<style scoped>\n",
              "    .dataframe tbody tr th:only-of-type {\n",
              "        vertical-align: middle;\n",
              "    }\n",
              "\n",
              "    .dataframe tbody tr th {\n",
              "        vertical-align: top;\n",
              "    }\n",
              "\n",
              "    .dataframe thead th {\n",
              "        text-align: right;\n",
              "    }\n",
              "</style>\n",
              "<table border=\"1\" class=\"dataframe\">\n",
              "  <thead>\n",
              "    <tr style=\"text-align: right;\">\n",
              "      <th></th>\n",
              "      <th>Target Date</th>\n",
              "      <th>Target-3</th>\n",
              "      <th>Target-2</th>\n",
              "      <th>Target-1</th>\n",
              "      <th>Target</th>\n",
              "    </tr>\n",
              "  </thead>\n",
              "  <tbody>\n",
              "    <tr>\n",
              "      <th>0</th>\n",
              "      <td>2022-01-03</td>\n",
              "      <td>115.77000</td>\n",
              "      <td>115.83000</td>\n",
              "      <td>115.56000</td>\n",
              "      <td>118.64000</td>\n",
              "    </tr>\n",
              "    <tr>\n",
              "      <th>1</th>\n",
              "      <td>2022-01-04</td>\n",
              "      <td>115.83000</td>\n",
              "      <td>115.56000</td>\n",
              "      <td>118.64000</td>\n",
              "      <td>122.30000</td>\n",
              "    </tr>\n",
              "    <tr>\n",
              "      <th>2</th>\n",
              "      <td>2022-01-05</td>\n",
              "      <td>115.56000</td>\n",
              "      <td>118.64000</td>\n",
              "      <td>122.30000</td>\n",
              "      <td>120.64000</td>\n",
              "    </tr>\n",
              "    <tr>\n",
              "      <th>3</th>\n",
              "      <td>2022-01-06</td>\n",
              "      <td>118.64000</td>\n",
              "      <td>122.30000</td>\n",
              "      <td>120.64000</td>\n",
              "      <td>122.82000</td>\n",
              "    </tr>\n",
              "    <tr>\n",
              "      <th>4</th>\n",
              "      <td>2022-01-07</td>\n",
              "      <td>122.30000</td>\n",
              "      <td>120.64000</td>\n",
              "      <td>122.82000</td>\n",
              "      <td>125.69000</td>\n",
              "    </tr>\n",
              "    <tr>\n",
              "      <th>...</th>\n",
              "      <td>...</td>\n",
              "      <td>...</td>\n",
              "      <td>...</td>\n",
              "      <td>...</td>\n",
              "      <td>...</td>\n",
              "    </tr>\n",
              "    <tr>\n",
              "      <th>139</th>\n",
              "      <td>2022-07-25</td>\n",
              "      <td>109.80000</td>\n",
              "      <td>100.00000</td>\n",
              "      <td>100.00000</td>\n",
              "      <td>100.02000</td>\n",
              "    </tr>\n",
              "    <tr>\n",
              "      <th>140</th>\n",
              "      <td>2022-07-26</td>\n",
              "      <td>100.00000</td>\n",
              "      <td>100.00000</td>\n",
              "      <td>100.02000</td>\n",
              "      <td>98.36000</td>\n",
              "    </tr>\n",
              "    <tr>\n",
              "      <th>141</th>\n",
              "      <td>2022-07-27</td>\n",
              "      <td>100.00000</td>\n",
              "      <td>100.02000</td>\n",
              "      <td>98.36000</td>\n",
              "      <td>100.29000</td>\n",
              "    </tr>\n",
              "    <tr>\n",
              "      <th>142</th>\n",
              "      <td>2022-07-28</td>\n",
              "      <td>100.02000</td>\n",
              "      <td>98.36000</td>\n",
              "      <td>100.29000</td>\n",
              "      <td>99.48000</td>\n",
              "    </tr>\n",
              "    <tr>\n",
              "      <th>143</th>\n",
              "      <td>2022-07-29</td>\n",
              "      <td>98.36000</td>\n",
              "      <td>100.29000</td>\n",
              "      <td>99.48000</td>\n",
              "      <td>101.00000</td>\n",
              "    </tr>\n",
              "  </tbody>\n",
              "</table>\n",
              "<p>144 rows × 5 columns</p>\n",
              "</div>\n",
              "      <button class=\"colab-df-convert\" onclick=\"convertToInteractive('df-738feb13-74d5-4db1-91d6-958048472d5c')\"\n",
              "              title=\"Convert this dataframe to an interactive table.\"\n",
              "              style=\"display:none;\">\n",
              "        \n",
              "  <svg xmlns=\"http://www.w3.org/2000/svg\" height=\"24px\"viewBox=\"0 0 24 24\"\n",
              "       width=\"24px\">\n",
              "    <path d=\"M0 0h24v24H0V0z\" fill=\"none\"/>\n",
              "    <path d=\"M18.56 5.44l.94 2.06.94-2.06 2.06-.94-2.06-.94-.94-2.06-.94 2.06-2.06.94zm-11 1L8.5 8.5l.94-2.06 2.06-.94-2.06-.94L8.5 2.5l-.94 2.06-2.06.94zm10 10l.94 2.06.94-2.06 2.06-.94-2.06-.94-.94-2.06-.94 2.06-2.06.94z\"/><path d=\"M17.41 7.96l-1.37-1.37c-.4-.4-.92-.59-1.43-.59-.52 0-1.04.2-1.43.59L10.3 9.45l-7.72 7.72c-.78.78-.78 2.05 0 2.83L4 21.41c.39.39.9.59 1.41.59.51 0 1.02-.2 1.41-.59l7.78-7.78 2.81-2.81c.8-.78.8-2.07 0-2.86zM5.41 20L4 18.59l7.72-7.72 1.47 1.35L5.41 20z\"/>\n",
              "  </svg>\n",
              "      </button>\n",
              "      \n",
              "  <style>\n",
              "    .colab-df-container {\n",
              "      display:flex;\n",
              "      flex-wrap:wrap;\n",
              "      gap: 12px;\n",
              "    }\n",
              "\n",
              "    .colab-df-convert {\n",
              "      background-color: #E8F0FE;\n",
              "      border: none;\n",
              "      border-radius: 50%;\n",
              "      cursor: pointer;\n",
              "      display: none;\n",
              "      fill: #1967D2;\n",
              "      height: 32px;\n",
              "      padding: 0 0 0 0;\n",
              "      width: 32px;\n",
              "    }\n",
              "\n",
              "    .colab-df-convert:hover {\n",
              "      background-color: #E2EBFA;\n",
              "      box-shadow: 0px 1px 2px rgba(60, 64, 67, 0.3), 0px 1px 3px 1px rgba(60, 64, 67, 0.15);\n",
              "      fill: #174EA6;\n",
              "    }\n",
              "\n",
              "    [theme=dark] .colab-df-convert {\n",
              "      background-color: #3B4455;\n",
              "      fill: #D2E3FC;\n",
              "    }\n",
              "\n",
              "    [theme=dark] .colab-df-convert:hover {\n",
              "      background-color: #434B5C;\n",
              "      box-shadow: 0px 1px 3px 1px rgba(0, 0, 0, 0.15);\n",
              "      filter: drop-shadow(0px 1px 2px rgba(0, 0, 0, 0.3));\n",
              "      fill: #FFFFFF;\n",
              "    }\n",
              "  </style>\n",
              "\n",
              "      <script>\n",
              "        const buttonEl =\n",
              "          document.querySelector('#df-738feb13-74d5-4db1-91d6-958048472d5c button.colab-df-convert');\n",
              "        buttonEl.style.display =\n",
              "          google.colab.kernel.accessAllowed ? 'block' : 'none';\n",
              "\n",
              "        async function convertToInteractive(key) {\n",
              "          const element = document.querySelector('#df-738feb13-74d5-4db1-91d6-958048472d5c');\n",
              "          const dataTable =\n",
              "            await google.colab.kernel.invokeFunction('convertToInteractive',\n",
              "                                                     [key], {});\n",
              "          if (!dataTable) return;\n",
              "\n",
              "          const docLinkHtml = 'Like what you see? Visit the ' +\n",
              "            '<a target=\"_blank\" href=https://colab.research.google.com/notebooks/data_table.ipynb>data table notebook</a>'\n",
              "            + ' to learn more about interactive tables.';\n",
              "          element.innerHTML = '';\n",
              "          dataTable['output_type'] = 'display_data';\n",
              "          await google.colab.output.renderOutput(dataTable, element);\n",
              "          const docLink = document.createElement('div');\n",
              "          docLink.innerHTML = docLinkHtml;\n",
              "          element.appendChild(docLink);\n",
              "        }\n",
              "      </script>\n",
              "    </div>\n",
              "  </div>\n",
              "  "
            ]
          },
          "metadata": {},
          "execution_count": 26
        }
      ]
    },
    {
      "cell_type": "code",
      "source": [
        "# Convert windowed function output to numpy array\n",
        "\n",
        "def windowed_df_to_date_X_y(windowed_dataframe):\n",
        "  df_as_np = windowed_dataframe.to_numpy()\n",
        "\n",
        "  # Get the dates for all the rows for the first column\n",
        "  dates = df_as_np[:, 0]\n",
        "\n",
        "  # Get all columns (besides date column) up to the next to last column\n",
        "  middle_matrix = df_as_np[:, 1:-1]\n",
        "\n",
        "  # Create the matrix for the model (univariate)\n",
        "  X = middle_matrix.reshape((len(dates), middle_matrix.shape[1], 1))\n",
        "\n",
        "  # Set Y to all records, but only for the last column\n",
        "  Y = df_as_np[:, -1]\n",
        "\n",
        "  # Return the data, but with set data types as float32\n",
        "  return dates, X.astype(np.float32), Y.astype(np.float32)\n",
        "\n",
        "# Set date, X, & Y to the function- passing in the windowed_df to the function\n",
        "dates, X, y = windowed_df_to_date_X_y(windowed_df)\n",
        "\n",
        "# View the shapes of each\n",
        "dates.shape, X.shape, y.shape"
      ],
      "metadata": {
        "colab": {
          "base_uri": "https://localhost:8080/"
        },
        "id": "6wK74Ue-LWyp",
        "outputId": "922610a6-69cd-4500-f146-64a5b92ef882"
      },
      "execution_count": null,
      "outputs": [
        {
          "output_type": "execute_result",
          "data": {
            "text/plain": [
              "((144,), (144, 3, 1), (144,))"
            ]
          },
          "metadata": {},
          "execution_count": 27
        }
      ]
    },
    {
      "cell_type": "code",
      "source": [
        "dates, X, y"
      ],
      "metadata": {
        "colab": {
          "base_uri": "https://localhost:8080/"
        },
        "id": "wMd9LXTTOmZN",
        "outputId": "a62091b7-1876-4a9b-847c-00481c298735"
      },
      "execution_count": null,
      "outputs": [
        {
          "output_type": "execute_result",
          "data": {
            "text/plain": [
              "(array([Timestamp('1999-11-04 00:00:00'), Timestamp('1999-11-05 00:00:00'),\n",
              "        Timestamp('1999-11-08 00:00:00'), ...,\n",
              "        Timestamp('2022-08-03 00:00:00'), Timestamp('2022-08-04 00:00:00'),\n",
              "        Timestamp('2022-08-05 00:00:00')], dtype=object), array([[[46.88],\n",
              "         [47.38],\n",
              "         [46.13]],\n",
              " \n",
              "        [[47.38],\n",
              "         [46.13],\n",
              "         [47.  ]],\n",
              " \n",
              "        [[46.13],\n",
              "         [47.  ],\n",
              "         [46.81]],\n",
              " \n",
              "        ...,\n",
              " \n",
              "        [[43.87],\n",
              "         [43.54],\n",
              "         [42.88]],\n",
              " \n",
              "        [[43.54],\n",
              "         [42.88],\n",
              "         [43.89]],\n",
              " \n",
              "        [[42.88],\n",
              "         [43.89],\n",
              "         [42.77]]], dtype=float32), array([47.  , 46.81, 47.13, ..., 43.89, 42.77, 43.76], dtype=float32))"
            ]
          },
          "metadata": {},
          "execution_count": 54
        }
      ]
    },
    {
      "cell_type": "code",
      "source": [
        "# Split the data into train, validation, & testing\n",
        "\n",
        "# Training will be 80%, \n",
        "# Validation will be the next 10%\n",
        "# Testing will be the last 10%\n",
        "\n",
        "# Set the length of 80%\n",
        "# Set the lenght of 90% \n",
        "q_80 = int(len(dates) * .8)\n",
        "q_90 = int(len(dates) * .9)\n",
        "\n",
        "# Select the data for the training, testing, and valiation\n",
        "dates_train, X_train, y_train = dates[:q_80], X[:q_80], y[:q_80]\n",
        "dates_val, X_val, y_val = dates[q_80:q_90], X[q_80:q_90], y[q_80:q_90]\n",
        "dates_test, X_test, y_test = dates[q_90:], X[q_90:], y[q_90:]\n",
        "\n",
        "# Plot the split of train, test, split\n",
        "plt.plot(dates_train, y_train)\n",
        "plt.plot(dates_val, y_val)\n",
        "plt.plot(dates_test, y_test)\n",
        "plt.xticks(rotation=90)\n",
        "plt.title(\"View of test,train, validate split\")\n",
        "plt.legend(['Train', 'Validation', 'Test'])"
      ],
      "metadata": {
        "colab": {
          "base_uri": "https://localhost:8080/",
          "height": 330
        },
        "id": "KU4BU7QrLaah",
        "outputId": "edef28ba-3533-4681-e9c4-36ffc7a2cf61"
      },
      "execution_count": null,
      "outputs": [
        {
          "output_type": "execute_result",
          "data": {
            "text/plain": [
              "<matplotlib.legend.Legend at 0x7f415b388f10>"
            ]
          },
          "metadata": {},
          "execution_count": 28
        },
        {
          "output_type": "display_data",
          "data": {
            "text/plain": [
              "<Figure size 432x288 with 1 Axes>"
            ],
            "image/png": "[encoded data removed]"
          },
          "metadata": {
            "needs_background": "light"
          }
        }
      ]
    },
    {
      "cell_type": "code",
      "source": [
        "# Import tensor flow dependencies\n",
        "\n",
        "# Sequential Model\n",
        "from tensorflow.keras.models import Sequential\n",
        "# Optimizier\n",
        "from tensorflow.keras.optimizers import Adam\n",
        "# Add layers\n",
        "from tensorflow.keras import layers\n",
        "\n",
        "# Create model & Add layers\n",
        "model = Sequential([layers.Input((3, 1)), # specify shape of model\n",
        "                    layers.LSTM(80), # set neurons\n",
        "                    layers.Dense(32, activation='relu'), # Add dense relu layer\n",
        "                    layers.Dense(32, activation='relu'), # Add another dense relu layer\n",
        "                    layers.Dense(1)]) # Univariate so leave at 1\n",
        "\n",
        "# Set complilation\n",
        "model.compile(loss='mse', # We want to minimize the mse\n",
        "              optimizer=Adam(learning_rate=0.001), # Set optimizer to Adam & set learning rate\n",
        "              metrics=['mean_absolute_error']) # Set MAE as the metrics\n",
        "\n",
        "model.summary()"
      ],
      "metadata": {
        "colab": {
          "base_uri": "https://localhost:8080/"
        },
        "id": "l4pa6KbSLdFo",
        "outputId": "f17f5b41-9a46-4447-9237-64ffba34c2f3"
      },
      "execution_count": null,
      "outputs": [
        {
          "output_type": "stream",
          "name": "stdout",
          "text": [
            "Model: \"sequential\"\n",
            "_________________________________________________________________\n",
            " Layer (type)                Output Shape              Param #   \n",
            "=================================================================\n",
            " lstm (LSTM)                 (None, 80)                26240     \n",
            "                                                                 \n",
            " dense (Dense)               (None, 32)                2592      \n",
            "                                                                 \n",
            " dense_1 (Dense)             (None, 32)                1056      \n",
            "                                                                 \n",
            " dense_2 (Dense)             (None, 1)                 33        \n",
            "                                                                 \n",
            "=================================================================\n",
            "Total params: 29,921\n",
            "Trainable params: 29,921\n",
            "Non-trainable params: 0\n",
            "_________________________________________________________________\n"
          ]
        }
      ]
    },
    {
      "cell_type": "code",
      "source": [
        "# Fit the model, using 100 epochs\n",
        "history = model.fit(X_train, y_train, validation_data=(X_val, y_val), epochs=100)"
      ],
      "metadata": {
        "colab": {
          "base_uri": "https://localhost:8080/"
        },
        "id": "yhLLj7xQRnFz",
        "outputId": "194ac53e-5bde-465c-9df1-741a376c556e"
      },
      "execution_count": null,
      "outputs": [
        {
          "output_type": "stream",
          "name": "stdout",
          "text": [
            "Epoch 1/100\n",
            "4/4 [==============================] - 3s 179ms/step - loss: 12921.5586 - mean_absolute_error: 113.3980 - val_loss: 9288.2627 - val_mean_absolute_error: 96.3517\n",
            "Epoch 2/100\n",
            "4/4 [==============================] - 0s 12ms/step - loss: 12809.6250 - mean_absolute_error: 112.9020 - val_loss: 9190.5732 - val_mean_absolute_error: 95.8434\n",
            "Epoch 3/100\n",
            "4/4 [==============================] - 0s 12ms/step - loss: 12703.0459 - mean_absolute_error: 112.4297 - val_loss: 9098.2852 - val_mean_absolute_error: 95.3607\n",
            "Epoch 4/100\n",
            "4/4 [==============================] - 0s 12ms/step - loss: 12589.9932 - mean_absolute_error: 111.9253 - val_loss: 8995.5410 - val_mean_absolute_error: 94.8205\n",
            "Epoch 5/100\n",
            "4/4 [==============================] - 0s 12ms/step - loss: 12464.7979 - mean_absolute_error: 111.3648 - val_loss: 8872.5381 - val_mean_absolute_error: 94.1696\n",
            "Epoch 6/100\n",
            "4/4 [==============================] - 0s 12ms/step - loss: 12310.9258 - mean_absolute_error: 110.6699 - val_loss: 8721.8486 - val_mean_absolute_error: 93.3661\n",
            "Epoch 7/100\n",
            "4/4 [==============================] - 0s 13ms/step - loss: 12122.1943 - mean_absolute_error: 109.8134 - val_loss: 8541.5059 - val_mean_absolute_error: 92.3952\n",
            "Epoch 8/100\n",
            "4/4 [==============================] - 0s 12ms/step - loss: 11896.0234 - mean_absolute_error: 108.7832 - val_loss: 8331.5693 - val_mean_absolute_error: 91.2521\n",
            "Epoch 9/100\n",
            "4/4 [==============================] - 0s 12ms/step - loss: 11642.0674 - mean_absolute_error: 107.6053 - val_loss: 8093.1260 - val_mean_absolute_error: 89.9360\n",
            "Epoch 10/100\n",
            "4/4 [==============================] - 0s 13ms/step - loss: 11352.4033 - mean_absolute_error: 106.2492 - val_loss: 7806.6650 - val_mean_absolute_error: 88.3288\n",
            "Epoch 11/100\n",
            "4/4 [==============================] - 0s 13ms/step - loss: 11004.9990 - mean_absolute_error: 104.6022 - val_loss: 7454.1689 - val_mean_absolute_error: 86.3102\n",
            "Epoch 12/100\n",
            "4/4 [==============================] - 0s 14ms/step - loss: 10575.0977 - mean_absolute_error: 102.5190 - val_loss: 7016.3867 - val_mean_absolute_error: 83.7355\n",
            "Epoch 13/100\n",
            "4/4 [==============================] - 0s 13ms/step - loss: 10029.3203 - mean_absolute_error: 99.8295 - val_loss: 6495.8022 - val_mean_absolute_error: 80.5670\n",
            "Epoch 14/100\n",
            "4/4 [==============================] - 0s 13ms/step - loss: 9376.0566 - mean_absolute_error: 96.4853 - val_loss: 5914.4087 - val_mean_absolute_error: 76.8742\n",
            "Epoch 15/100\n",
            "4/4 [==============================] - 0s 12ms/step - loss: 8638.6572 - mean_absolute_error: 92.5940 - val_loss: 5273.1987 - val_mean_absolute_error: 72.5837\n",
            "Epoch 16/100\n",
            "4/4 [==============================] - 0s 12ms/step - loss: 7838.6484 - mean_absolute_error: 88.1668 - val_loss: 4580.3560 - val_mean_absolute_error: 67.6421\n",
            "Epoch 17/100\n",
            "4/4 [==============================] - 0s 12ms/step - loss: 6981.3696 - mean_absolute_error: 83.1604 - val_loss: 3810.0396 - val_mean_absolute_error: 61.6845\n",
            "Epoch 18/100\n",
            "4/4 [==============================] - 0s 13ms/step - loss: 6028.9336 - mean_absolute_error: 77.1636 - val_loss: 2953.6897 - val_mean_absolute_error: 54.3004\n",
            "Epoch 19/100\n",
            "4/4 [==============================] - 0s 13ms/step - loss: 4915.9131 - mean_absolute_error: 69.5827 - val_loss: 2089.6765 - val_mean_absolute_error: 45.6573\n",
            "Epoch 20/100\n",
            "4/4 [==============================] - 0s 12ms/step - loss: 3736.9177 - mean_absolute_error: 60.4659 - val_loss: 1318.2123 - val_mean_absolute_error: 36.2385\n",
            "Epoch 21/100\n",
            "4/4 [==============================] - 0s 13ms/step - loss: 2640.1519 - mean_absolute_error: 50.6525 - val_loss: 708.9933 - val_mean_absolute_error: 26.5358\n",
            "Epoch 22/100\n",
            "4/4 [==============================] - 0s 12ms/step - loss: 1718.4500 - mean_absolute_error: 40.6553 - val_loss: 297.3502 - val_mean_absolute_error: 17.1063\n",
            "Epoch 23/100\n",
            "4/4 [==============================] - 0s 12ms/step - loss: 1028.4497 - mean_absolute_error: 31.1067 - val_loss: 71.3881 - val_mean_absolute_error: 8.1652\n",
            "Epoch 24/100\n",
            "4/4 [==============================] - 0s 12ms/step - loss: 567.8604 - mean_absolute_error: 22.3962 - val_loss: 4.8719 - val_mean_absolute_error: 1.9323\n",
            "Epoch 25/100\n",
            "4/4 [==============================] - 0s 11ms/step - loss: 266.0932 - mean_absolute_error: 14.6119 - val_loss: 70.5295 - val_mean_absolute_error: 8.1130\n",
            "Epoch 26/100\n",
            "4/4 [==============================] - 0s 12ms/step - loss: 110.6456 - mean_absolute_error: 8.4284 - val_loss: 220.3874 - val_mean_absolute_error: 14.6844\n",
            "Epoch 27/100\n",
            "4/4 [==============================] - 0s 12ms/step - loss: 68.5038 - mean_absolute_error: 6.1948 - val_loss: 388.3276 - val_mean_absolute_error: 19.5853\n",
            "Epoch 28/100\n",
            "4/4 [==============================] - 0s 12ms/step - loss: 77.0238 - mean_absolute_error: 6.9646 - val_loss: 489.5052 - val_mean_absolute_error: 22.0181\n",
            "Epoch 29/100\n",
            "4/4 [==============================] - 0s 11ms/step - loss: 93.0064 - mean_absolute_error: 7.7897 - val_loss: 520.9707 - val_mean_absolute_error: 22.7217\n",
            "Epoch 30/100\n",
            "4/4 [==============================] - 0s 12ms/step - loss: 96.7093 - mean_absolute_error: 7.9716 - val_loss: 502.4947 - val_mean_absolute_error: 22.3122\n",
            "Epoch 31/100\n",
            "4/4 [==============================] - 0s 12ms/step - loss: 90.0882 - mean_absolute_error: 7.6120 - val_loss: 458.0038 - val_mean_absolute_error: 21.2927\n",
            "Epoch 32/100\n",
            "4/4 [==============================] - 0s 13ms/step - loss: 80.3686 - mean_absolute_error: 7.1045 - val_loss: 402.9652 - val_mean_absolute_error: 19.9588\n",
            "Epoch 33/100\n",
            "4/4 [==============================] - 0s 12ms/step - loss: 70.6789 - mean_absolute_error: 6.6198 - val_loss: 352.5067 - val_mean_absolute_error: 18.6521\n",
            "Epoch 34/100\n",
            "4/4 [==============================] - 0s 12ms/step - loss: 65.5247 - mean_absolute_error: 6.2483 - val_loss: 310.3802 - val_mean_absolute_error: 17.4867\n",
            "Epoch 35/100\n",
            "4/4 [==============================] - 0s 11ms/step - loss: 62.1499 - mean_absolute_error: 6.0332 - val_loss: 283.0105 - val_mean_absolute_error: 16.6859\n",
            "Epoch 36/100\n",
            "4/4 [==============================] - 0s 11ms/step - loss: 62.8449 - mean_absolute_error: 6.0403 - val_loss: 261.0888 - val_mean_absolute_error: 16.0159\n",
            "Epoch 37/100\n",
            "4/4 [==============================] - 0s 12ms/step - loss: 62.8575 - mean_absolute_error: 6.0266 - val_loss: 237.6474 - val_mean_absolute_error: 15.2719\n",
            "Epoch 38/100\n",
            "4/4 [==============================] - 0s 12ms/step - loss: 61.8137 - mean_absolute_error: 5.9810 - val_loss: 200.6613 - val_mean_absolute_error: 14.0099\n",
            "Epoch 39/100\n",
            "4/4 [==============================] - 0s 13ms/step - loss: 61.5543 - mean_absolute_error: 5.9704 - val_loss: 218.8543 - val_mean_absolute_error: 14.6484\n",
            "Epoch 40/100\n",
            "4/4 [==============================] - 0s 11ms/step - loss: 60.4256 - mean_absolute_error: 5.8914 - val_loss: 207.9743 - val_mean_absolute_error: 14.2724\n",
            "Epoch 41/100\n",
            "4/4 [==============================] - 0s 12ms/step - loss: 59.2176 - mean_absolute_error: 5.8379 - val_loss: 227.5414 - val_mean_absolute_error: 14.9428\n",
            "Epoch 42/100\n",
            "4/4 [==============================] - 0s 12ms/step - loss: 57.9449 - mean_absolute_error: 5.7694 - val_loss: 221.7695 - val_mean_absolute_error: 14.7465\n",
            "Epoch 43/100\n",
            "4/4 [==============================] - 0s 11ms/step - loss: 57.1504 - mean_absolute_error: 5.7264 - val_loss: 232.7387 - val_mean_absolute_error: 15.1141\n",
            "Epoch 44/100\n",
            "4/4 [==============================] - 0s 12ms/step - loss: 56.4946 - mean_absolute_error: 5.6956 - val_loss: 241.0282 - val_mean_absolute_error: 15.3861\n",
            "Epoch 45/100\n",
            "4/4 [==============================] - 0s 12ms/step - loss: 56.3463 - mean_absolute_error: 5.7088 - val_loss: 241.9957 - val_mean_absolute_error: 15.4168\n",
            "Epoch 46/100\n",
            "4/4 [==============================] - 0s 12ms/step - loss: 55.8726 - mean_absolute_error: 5.6768 - val_loss: 242.6763 - val_mean_absolute_error: 15.4384\n",
            "Epoch 47/100\n",
            "4/4 [==============================] - 0s 12ms/step - loss: 55.7061 - mean_absolute_error: 5.6715 - val_loss: 248.1325 - val_mean_absolute_error: 15.6147\n",
            "Epoch 48/100\n",
            "4/4 [==============================] - 0s 12ms/step - loss: 55.4046 - mean_absolute_error: 5.6731 - val_loss: 248.8058 - val_mean_absolute_error: 15.6364\n",
            "Epoch 49/100\n",
            "4/4 [==============================] - 0s 14ms/step - loss: 55.0114 - mean_absolute_error: 5.6505 - val_loss: 238.9743 - val_mean_absolute_error: 15.3181\n",
            "Epoch 50/100\n",
            "4/4 [==============================] - 0s 11ms/step - loss: 54.6582 - mean_absolute_error: 5.6110 - val_loss: 235.2970 - val_mean_absolute_error: 15.2012\n",
            "Epoch 51/100\n",
            "4/4 [==============================] - 0s 12ms/step - loss: 53.5281 - mean_absolute_error: 5.5693 - val_loss: 220.7495 - val_mean_absolute_error: 14.7205\n",
            "Epoch 52/100\n",
            "4/4 [==============================] - 0s 11ms/step - loss: 51.8738 - mean_absolute_error: 5.5038 - val_loss: 196.1702 - val_mean_absolute_error: 13.8656\n",
            "Epoch 53/100\n",
            "4/4 [==============================] - 0s 11ms/step - loss: 50.6379 - mean_absolute_error: 5.3708 - val_loss: 172.8578 - val_mean_absolute_error: 12.9997\n",
            "Epoch 54/100\n",
            "4/4 [==============================] - 0s 12ms/step - loss: 49.3075 - mean_absolute_error: 5.3532 - val_loss: 196.1119 - val_mean_absolute_error: 13.8721\n",
            "Epoch 55/100\n",
            "4/4 [==============================] - 0s 11ms/step - loss: 48.1365 - mean_absolute_error: 5.3000 - val_loss: 164.0445 - val_mean_absolute_error: 12.6612\n",
            "Epoch 56/100\n",
            "4/4 [==============================] - 0s 11ms/step - loss: 47.2936 - mean_absolute_error: 5.2166 - val_loss: 171.8000 - val_mean_absolute_error: 12.9652\n",
            "Epoch 57/100\n",
            "4/4 [==============================] - 0s 12ms/step - loss: 45.8095 - mean_absolute_error: 5.1691 - val_loss: 190.1477 - val_mean_absolute_error: 13.6565\n",
            "Epoch 58/100\n",
            "4/4 [==============================] - 0s 13ms/step - loss: 45.5910 - mean_absolute_error: 5.1591 - val_loss: 164.7939 - val_mean_absolute_error: 12.6883\n",
            "Epoch 59/100\n",
            "4/4 [==============================] - 0s 13ms/step - loss: 44.5640 - mean_absolute_error: 5.0484 - val_loss: 173.7033 - val_mean_absolute_error: 13.0397\n",
            "Epoch 60/100\n",
            "4/4 [==============================] - 0s 13ms/step - loss: 43.4954 - mean_absolute_error: 5.0428 - val_loss: 175.1978 - val_mean_absolute_error: 13.1010\n",
            "Epoch 61/100\n",
            "4/4 [==============================] - 0s 12ms/step - loss: 42.0927 - mean_absolute_error: 4.9344 - val_loss: 146.2726 - val_mean_absolute_error: 11.9449\n",
            "Epoch 62/100\n",
            "4/4 [==============================] - 0s 12ms/step - loss: 40.7992 - mean_absolute_error: 4.8576 - val_loss: 135.8857 - val_mean_absolute_error: 11.5117\n",
            "Epoch 63/100\n",
            "4/4 [==============================] - 0s 13ms/step - loss: 38.3687 - mean_absolute_error: 4.7217 - val_loss: 119.8844 - val_mean_absolute_error: 10.8011\n",
            "Epoch 64/100\n",
            "4/4 [==============================] - 0s 12ms/step - loss: 36.5357 - mean_absolute_error: 4.5929 - val_loss: 109.2372 - val_mean_absolute_error: 10.3005\n",
            "Epoch 65/100\n",
            "4/4 [==============================] - 0s 12ms/step - loss: 34.7164 - mean_absolute_error: 4.5097 - val_loss: 104.7053 - val_mean_absolute_error: 10.0830\n",
            "Epoch 66/100\n",
            "4/4 [==============================] - 0s 12ms/step - loss: 33.1599 - mean_absolute_error: 4.3826 - val_loss: 91.7819 - val_mean_absolute_error: 9.4248\n",
            "Epoch 67/100\n",
            "4/4 [==============================] - 0s 12ms/step - loss: 31.9253 - mean_absolute_error: 4.2964 - val_loss: 92.9025 - val_mean_absolute_error: 9.4885\n",
            "Epoch 68/100\n",
            "4/4 [==============================] - 0s 12ms/step - loss: 30.5024 - mean_absolute_error: 4.2523 - val_loss: 79.1841 - val_mean_absolute_error: 8.7360\n",
            "Epoch 69/100\n",
            "4/4 [==============================] - 0s 13ms/step - loss: 29.4485 - mean_absolute_error: 4.1438 - val_loss: 75.1124 - val_mean_absolute_error: 8.5014\n",
            "Epoch 70/100\n",
            "4/4 [==============================] - 0s 11ms/step - loss: 27.8050 - mean_absolute_error: 4.0417 - val_loss: 73.8278 - val_mean_absolute_error: 8.4284\n",
            "Epoch 71/100\n",
            "4/4 [==============================] - 0s 11ms/step - loss: 27.2012 - mean_absolute_error: 4.0042 - val_loss: 55.1201 - val_mean_absolute_error: 7.2357\n",
            "Epoch 72/100\n",
            "4/4 [==============================] - 0s 11ms/step - loss: 24.1273 - mean_absolute_error: 3.7652 - val_loss: 49.6085 - val_mean_absolute_error: 6.8469\n",
            "Epoch 73/100\n",
            "4/4 [==============================] - 0s 13ms/step - loss: 22.9327 - mean_absolute_error: 3.6741 - val_loss: 40.9397 - val_mean_absolute_error: 6.1813\n",
            "Epoch 74/100\n",
            "4/4 [==============================] - 0s 12ms/step - loss: 21.5071 - mean_absolute_error: 3.5467 - val_loss: 29.7224 - val_mean_absolute_error: 5.1928\n",
            "Epoch 75/100\n",
            "4/4 [==============================] - 0s 11ms/step - loss: 20.4944 - mean_absolute_error: 3.5569 - val_loss: 40.8460 - val_mean_absolute_error: 6.1640\n",
            "Epoch 76/100\n",
            "4/4 [==============================] - 0s 12ms/step - loss: 21.4613 - mean_absolute_error: 3.6750 - val_loss: 8.8846 - val_mean_absolute_error: 2.6321\n",
            "Epoch 77/100\n",
            "4/4 [==============================] - 0s 12ms/step - loss: 18.8671 - mean_absolute_error: 3.4219 - val_loss: 20.4137 - val_mean_absolute_error: 4.1781\n",
            "Epoch 78/100\n",
            "4/4 [==============================] - 0s 13ms/step - loss: 16.6940 - mean_absolute_error: 3.2348 - val_loss: 11.1833 - val_mean_absolute_error: 2.9998\n",
            "Epoch 79/100\n",
            "4/4 [==============================] - 0s 12ms/step - loss: 15.5927 - mean_absolute_error: 3.0927 - val_loss: 7.4334 - val_mean_absolute_error: 2.3465\n",
            "Epoch 80/100\n",
            "4/4 [==============================] - 0s 12ms/step - loss: 14.9355 - mean_absolute_error: 3.0621 - val_loss: 8.0666 - val_mean_absolute_error: 2.4807\n",
            "Epoch 81/100\n",
            "4/4 [==============================] - 0s 11ms/step - loss: 13.8651 - mean_absolute_error: 2.9483 - val_loss: 3.9843 - val_mean_absolute_error: 1.7790\n",
            "Epoch 82/100\n",
            "4/4 [==============================] - 0s 12ms/step - loss: 13.4236 - mean_absolute_error: 2.9298 - val_loss: 5.0798 - val_mean_absolute_error: 2.0141\n",
            "Epoch 83/100\n",
            "4/4 [==============================] - 0s 12ms/step - loss: 13.2358 - mean_absolute_error: 2.8818 - val_loss: 4.1184 - val_mean_absolute_error: 1.5061\n",
            "Epoch 84/100\n",
            "4/4 [==============================] - 0s 14ms/step - loss: 13.3705 - mean_absolute_error: 2.8433 - val_loss: 6.5340 - val_mean_absolute_error: 2.2861\n",
            "Epoch 85/100\n",
            "4/4 [==============================] - 0s 12ms/step - loss: 12.8428 - mean_absolute_error: 2.8767 - val_loss: 3.3121 - val_mean_absolute_error: 1.5098\n",
            "Epoch 86/100\n",
            "4/4 [==============================] - 0s 12ms/step - loss: 11.8879 - mean_absolute_error: 2.7175 - val_loss: 4.2633 - val_mean_absolute_error: 1.8709\n",
            "Epoch 87/100\n",
            "4/4 [==============================] - 0s 13ms/step - loss: 12.2164 - mean_absolute_error: 2.7936 - val_loss: 3.3645 - val_mean_absolute_error: 1.5324\n",
            "Epoch 88/100\n",
            "4/4 [==============================] - 0s 12ms/step - loss: 11.3591 - mean_absolute_error: 2.6804 - val_loss: 3.6356 - val_mean_absolute_error: 1.6753\n",
            "Epoch 89/100\n",
            "4/4 [==============================] - 0s 12ms/step - loss: 11.4125 - mean_absolute_error: 2.7068 - val_loss: 3.5178 - val_mean_absolute_error: 1.4496\n",
            "Epoch 90/100\n",
            "4/4 [==============================] - 0s 13ms/step - loss: 10.9072 - mean_absolute_error: 2.6724 - val_loss: 4.2308 - val_mean_absolute_error: 1.8634\n",
            "Epoch 91/100\n",
            "4/4 [==============================] - 0s 12ms/step - loss: 11.4329 - mean_absolute_error: 2.7354 - val_loss: 4.6904 - val_mean_absolute_error: 1.5802\n",
            "Epoch 92/100\n",
            "4/4 [==============================] - 0s 11ms/step - loss: 11.7758 - mean_absolute_error: 2.7701 - val_loss: 3.3734 - val_mean_absolute_error: 1.5007\n",
            "Epoch 93/100\n",
            "4/4 [==============================] - 0s 12ms/step - loss: 11.8053 - mean_absolute_error: 2.7675 - val_loss: 3.8856 - val_mean_absolute_error: 1.7773\n",
            "Epoch 94/100\n",
            "4/4 [==============================] - 0s 11ms/step - loss: 11.4929 - mean_absolute_error: 2.6772 - val_loss: 4.2719 - val_mean_absolute_error: 1.4906\n",
            "Epoch 95/100\n",
            "4/4 [==============================] - 0s 11ms/step - loss: 12.9835 - mean_absolute_error: 3.0197 - val_loss: 5.0485 - val_mean_absolute_error: 2.0434\n",
            "Epoch 96/100\n",
            "4/4 [==============================] - 0s 12ms/step - loss: 11.9212 - mean_absolute_error: 2.7629 - val_loss: 3.9818 - val_mean_absolute_error: 1.4391\n",
            "Epoch 97/100\n",
            "4/4 [==============================] - 0s 12ms/step - loss: 11.2622 - mean_absolute_error: 2.7269 - val_loss: 3.8453 - val_mean_absolute_error: 1.7681\n",
            "Epoch 98/100\n",
            "4/4 [==============================] - 0s 11ms/step - loss: 11.7113 - mean_absolute_error: 2.7293 - val_loss: 4.3297 - val_mean_absolute_error: 1.4886\n",
            "Epoch 99/100\n",
            "4/4 [==============================] - 0s 12ms/step - loss: 10.4352 - mean_absolute_error: 2.6207 - val_loss: 3.7709 - val_mean_absolute_error: 1.7386\n",
            "Epoch 100/100\n",
            "4/4 [==============================] - 0s 12ms/step - loss: 10.7324 - mean_absolute_error: 2.5735 - val_loss: 4.5959 - val_mean_absolute_error: 1.5413\n"
          ]
        }
      ]
    },
    {
      "cell_type": "code",
      "source": [
        "history.history.keys()"
      ],
      "metadata": {
        "colab": {
          "base_uri": "https://localhost:8080/"
        },
        "id": "-Mn5uHlRUeHy",
        "outputId": "34a5cbfd-b984-46b1-c654-a1ff95ab68b5"
      },
      "execution_count": null,
      "outputs": [
        {
          "output_type": "execute_result",
          "data": {
            "text/plain": [
              "dict_keys(['loss', 'mean_absolute_error', 'val_loss', 'val_mean_absolute_error'])"
            ]
          },
          "metadata": {},
          "execution_count": 31
        }
      ]
    },
    {
      "cell_type": "code",
      "source": [
        "# history for loss\n",
        "plt.figure(figsize = (10,5))\n",
        "plt.plot(history.history['mean_absolute_error'])\n",
        "plt.plot(history.history['val_mean_absolute_error'])\n",
        "plt.title('model loss')\n",
        "plt.ylabel('MAE')\n",
        "plt.xlabel('epoch')\n",
        "plt.legend(['train', 'test'], loc='upper left')\n",
        "plt.show()"
      ],
      "metadata": {
        "colab": {
          "base_uri": "https://localhost:8080/",
          "height": 350
        },
        "id": "Yt3dQbZCUkPE",
        "outputId": "f8f1dbc9-44d6-4279-e491-e27b58d993f2"
      },
      "execution_count": null,
      "outputs": [
        {
          "output_type": "display_data",
          "data": {
            "text/plain": [
              "<Figure size 720x360 with 1 Axes>"
            ],
            "image/png": "[encoded data removed]"
          },
          "metadata": {
            "needs_background": "light"
          }
        }
      ]
    },
    {
      "cell_type": "code",
      "source": [
        "# Plot the predictions vs the actuals\n",
        "train_predictions = model.predict(X_train).flatten()\n",
        "\n",
        "plt.plot(dates_train, train_predictions)\n",
        "plt.plot(dates_train, y_train)\n",
        "plt.title(\"Training Predictions & Observations\")\n",
        "plt.legend(['Training Predictions', 'Training Observations'])\n",
        "plt.xticks(rotation=90)"
      ],
      "metadata": {
        "colab": {
          "base_uri": "https://localhost:8080/",
          "height": 348
        },
        "id": "aYQjVKbQLp_7",
        "outputId": "76c6d129-8b32-411a-dd61-5420b5a597d4"
      },
      "execution_count": null,
      "outputs": [
        {
          "output_type": "execute_result",
          "data": {
            "text/plain": [
              "(array([738156., 738187., 738215., 738246., 738276., 738307.]),\n",
              " <a list of 6 Text major ticklabel objects>)"
            ]
          },
          "metadata": {},
          "execution_count": 33
        },
        {
          "output_type": "display_data",
          "data": {
            "text/plain": [
              "<Figure size 432x288 with 1 Axes>"
            ],
            "image/png": "[encoded data removed]"
          },
          "metadata": {
            "needs_background": "light"
          }
        }
      ]
    },
    {
      "cell_type": "code",
      "source": [
        "# Plot the validation predictions vs the observations\n",
        "\n",
        "val_predictions = model.predict(X_val).flatten()\n",
        "\n",
        "plt.plot(dates_val, val_predictions)\n",
        "plt.plot(dates_val, y_val)\n",
        "plt.title(\"Validation Predictions vs Observations\")\n",
        "plt.legend(['Validation Predictions', 'Validation Observations'])\n",
        "plt.xticks(rotation=90)"
      ],
      "metadata": {
        "colab": {
          "base_uri": "https://localhost:8080/",
          "height": 364
        },
        "id": "lxD-uqJxLsxA",
        "outputId": "96405c1f-98eb-45fd-fb5d-0a87adb5a42d"
      },
      "execution_count": null,
      "outputs": [
        {
          "output_type": "execute_result",
          "data": {
            "text/plain": [
              "(array([738323., 738327., 738331., 738335., 738337., 738341., 738345.]),\n",
              " <a list of 7 Text major ticklabel objects>)"
            ]
          },
          "metadata": {},
          "execution_count": 34
        },
        {
          "output_type": "display_data",
          "data": {
            "text/plain": [
              "<Figure size 432x288 with 1 Axes>"
            ],
            "image/png": "[encoded data removed]"
          },
          "metadata": {
            "needs_background": "light"
          }
        }
      ]
    },
    {
      "cell_type": "code",
      "source": [
        "# Plot the Testing Predictions vs the Testing Actuals\n",
        "\n",
        "test_predictions = model.predict(X_test).flatten()\n",
        "\n",
        "plt.plot(dates_test, test_predictions)\n",
        "plt.plot(dates_test, y_test)\n",
        "plt.title(\"Testing Predictions vs Testing Observations\")\n",
        "plt.legend(['Testing Predictions', 'Testing Observations'])\n",
        "plt.xticks(rotation=90)"
      ],
      "metadata": {
        "colab": {
          "base_uri": "https://localhost:8080/",
          "height": 381
        },
        "id": "CMrn1GlYLwPj",
        "outputId": "65d98daa-7585-415c-c084-54b99b443b8b"
      },
      "execution_count": null,
      "outputs": [
        {
          "output_type": "execute_result",
          "data": {
            "text/plain": [
              "(array([738347., 738349., 738351., 738353., 738355., 738357., 738359.,\n",
              "        738361., 738363., 738365.]),\n",
              " <a list of 10 Text major ticklabel objects>)"
            ]
          },
          "metadata": {},
          "execution_count": 35
        },
        {
          "output_type": "display_data",
          "data": {
            "text/plain": [
              "<Figure size 432x288 with 1 Axes>"
            ],
            "image/png": "[encoded data removed]"
          },
          "metadata": {
            "needs_background": "light"
          }
        }
      ]
    },
    {
      "cell_type": "code",
      "source": [
        "# Plot all together\n",
        "\n",
        "plt.plot(dates_train, train_predictions)\n",
        "plt.plot(dates_train, y_train)\n",
        "plt.plot(dates_val, val_predictions)\n",
        "plt.plot(dates_val, y_val)\n",
        "plt.plot(dates_test, test_predictions)\n",
        "plt.plot(dates_test, y_test)\n",
        "plt.title(\"Model Performance Overview\")\n",
        "plt.xticks(rotation=90)\n",
        "plt.legend(['Training Predictions', \n",
        "            'Training Observations',\n",
        "            'Validation Predictions', \n",
        "            'Validation Observations',\n",
        "            'Testing Predictions', \n",
        "            'Testing Observations'])"
      ],
      "metadata": {
        "colab": {
          "base_uri": "https://localhost:8080/",
          "height": 330
        },
        "id": "P7_liLbJLyy8",
        "outputId": "09e5983e-e944-42d3-f793-f211a9ea4a3b"
      },
      "execution_count": null,
      "outputs": [
        {
          "output_type": "execute_result",
          "data": {
            "text/plain": [
              "<matplotlib.legend.Legend at 0x7f40e0e2d590>"
            ]
          },
          "metadata": {},
          "execution_count": 36
        },
        {
          "output_type": "display_data",
          "data": {
            "text/plain": [
              "<Figure size 432x288 with 1 Axes>"
            ],
            "image/png": "[encoded data removed]"
          },
          "metadata": {
            "needs_background": "light"
          }
        }
      ]
    },
    {
      "cell_type": "markdown",
      "source": [
        "# Implementing the Model on the Rest of the Stocks"
      ],
      "metadata": {
        "id": "-ELczy_iCn8H"
      }
    },
    {
      "cell_type": "code",
      "source": [
        "pred_comb = pd.DataFrame()\n",
        "\n",
        "for i in d:\n",
        "  df_t = d[i]\n",
        "\n",
        " #----GENERATE THE DATES\n",
        "  # Put the dataframe in ascending order based on the index (the date)\n",
        "  df_t = df_t.sort_index()\n",
        "\n",
        "  fst_dt_1 = df_t.index[3]\n",
        "  fst_dt = fst_dt_1.strftime('%Y-%m-%d')\n",
        "  # Set the starting date equal to the first date in the data\n",
        "  first_date = ('{}'.format(fst_dt))\n",
        "\n",
        "  target_date = fst_dt_1\n",
        "\n",
        "  # Get the date 7 days from now\n",
        "  next_week_dt = target_date+datetime.timedelta(days=7)\n",
        "\n",
        "  # Create 'next_week' which is the next 7 days of data\n",
        "  next_week = df_t.loc[target_date:next_week_dt]\n",
        "\n",
        "  # Convert the dates to date formats\n",
        "  str1 = target_date.strftime('%Y-%m-%d')\n",
        "  str2 = next_week_dt.strftime('%Y-%m-%d')\n",
        "\n",
        "  # Set the values of next week\n",
        "  next_week = df_t.loc[target_date:next_week_dt]\n",
        "  next_datetime_str = str(next_week.head(2).tail(1).index.values[0])\n",
        "\n",
        "\n",
        "# GENERATE WINDOWED DATA\n",
        "  max_index =  len(df_t)-1\n",
        "  max_date = df_t.index[max_index].strftime('%Y-%m-%d')\n",
        "  \n",
        "  windowed_df = df_to_windowed_df(df_t, '{}'.format(fst_dt), '{}'.format(max_date) , n=3)\n",
        "  dates, X, y = windowed_df_to_date_X_y(windowed_df)\n",
        "\n",
        "  # Set the length percent for train, validation, & test\n",
        "  q_80 = int(len(dates) * .8)\n",
        "  q_90 = int(len(dates) * .9)\n",
        "\n",
        "  # Select the data for the training, testing, and valiation\n",
        "  dates_train, X_train, y_train = dates[:q_80], X[:q_80], y[:q_80]\n",
        "  dates_val, X_val, y_val = dates[q_80:q_90], X[q_80:q_90], y[q_80:q_90]\n",
        "  dates_test, X_test, y_test = dates[q_90:], X[q_90:], y[q_90:]\n",
        "\n",
        "\n",
        "  # Fit the model, using 100 epochs\n",
        "  history = model.fit(X_train, y_train, validation_data=(X_val, y_val), epochs=100, verbose=0)\n",
        "\n",
        "\n",
        "  # Set complilation\n",
        "  model.compile(loss='mse', # We want to minimize the mse\n",
        "                optimizer=Adam(learning_rate=0.001), # Set optimizer to Adam & set learning rate\n",
        "                metrics=['mean_absolute_error']) # Set MAE as the metrics\n",
        "\n",
        "\n",
        "\n",
        "  print(i+\" complete \")\n",
        "\n",
        "  # Predict the next 15 days\n",
        "  pred_vals = model.predict(X_test)\n",
        "\n",
        "  # Generate list of dates that were predicted\n",
        "  numdays = len(dates_test)\n",
        "  base = dates_test[-1:] + datetime.timedelta(1)\n",
        "  pred_dates = [base + datetime.timedelta(days=x) for x in range(numdays)]\n",
        "\n",
        "\n",
        "  pred_comb['dates'] = pd.DataFrame(pred_dates, columns = ['dates'])\n",
        "  pred_comb = pred_comb.head(15)\n",
        "  predic_vals_df = pd.DataFrame(pred_vals, columns = ['vals'])\n",
        "  predic_vals_df = predic_vals_df.head(15)\n",
        "  pred_comb.insert(1, i, predic_vals_df)\n",
        "\n",
        " "
      ],
      "metadata": {
        "colab": {
          "base_uri": "https://localhost:8080/"
        },
        "id": "wrMERQtiu0AX",
        "outputId": "ee1478ec-cba5-4f5e-c8ca-325275b97129"
      },
      "execution_count": null,
      "outputs": [
        {
          "output_type": "stream",
          "name": "stdout",
          "text": [
            "DFS complete \n",
            "JPM complete \n",
            "AXP complete \n",
            "C complete \n",
            "BAC complete \n",
            "USB complete \n",
            "WFC complete \n"
          ]
        }
      ]
    },
    {
      "cell_type": "code",
      "source": [
        "  #Combined Predictions Output\n",
        "  pred_comb"
      ],
      "metadata": {
        "colab": {
          "base_uri": "https://localhost:8080/",
          "height": 520
        },
        "id": "K-1q0Rzko5gL",
        "outputId": "a1c3d9dd-e2f4-47e4-b7d4-459930bd9819"
      },
      "execution_count": null,
      "outputs": [
        {
          "output_type": "execute_result",
          "data": {
            "text/plain": [
              "        dates      WFC      USB      BAC        C      AXP      JPM      DFS\n",
              "0  2022-08-06 28.66337 36.72343 23.76022 47.15524 87.49784 95.86562 83.76031\n",
              "1  2022-08-07 29.73377 38.53696 24.65550 50.18599 96.80535 98.76174 81.86189\n",
              "2  2022-08-08 28.95728 36.86708 24.00541 48.47065 89.00744 96.32678 87.96178\n",
              "3  2022-08-09 27.61097 35.24868 23.07750 45.53086 87.01344 93.86720 90.18279\n",
              "4  2022-08-10 27.28582 34.64864 22.89117 45.09571 85.34126 92.80294 92.57491\n",
              "5  2022-08-11 26.33453 33.73286 22.59920 43.92514 85.87886 92.61179 93.08434\n",
              "6  2022-08-12 25.64866 33.37173 22.29195 42.93924 83.00412 91.06413 93.51119\n",
              "7  2022-08-13 25.26046 34.25563 22.75171 44.66571 85.99227 91.74387 93.20435\n",
              "8  2022-08-14 25.40736 34.81152 23.44784 46.30727 88.82041 93.16970 93.29051\n",
              "9  2022-08-15 24.83765 33.56123 22.52759 44.04236 84.08997 90.83474 93.18523\n",
              "10 2022-08-16 24.15303 31.92847 21.84885 42.33738 82.22269 87.97959 93.37707\n",
              "11 2022-08-17 22.77063 29.80888 20.84704 40.59320 77.14538 84.82874 93.82896\n",
              "12 2022-08-18 23.99444 31.23351 21.62964 42.11955 83.11967 87.89492 92.97503\n",
              "13 2022-08-19 23.45813 30.83344 21.33183 41.93784 81.34727 86.69442 92.19981\n",
              "14 2022-08-20 25.25801 32.93767 22.80064 45.71483 87.91084 90.64854 93.29691"
            ],
            "text/html": [
              "\n",
              "  <div id=\"df-a203ca98-1a85-4fe2-bacb-01dce7356af7\">\n",
              "    <div class=\"colab-df-container\">\n",
              "      <div>\n",
              "<style scoped>\n",
              "    .dataframe tbody tr th:only-of-type {\n",
              "        vertical-align: middle;\n",
              "    }\n",
              "\n",
              "    .dataframe tbody tr th {\n",
              "        vertical-align: top;\n",
              "    }\n",
              "\n",
              "    .dataframe thead th {\n",
              "        text-align: right;\n",
              "    }\n",
              "</style>\n",
              "<table border=\"1\" class=\"dataframe\">\n",
              "  <thead>\n",
              "    <tr style=\"text-align: right;\">\n",
              "      <th></th>\n",
              "      <th>dates</th>\n",
              "      <th>WFC</th>\n",
              "      <th>USB</th>\n",
              "      <th>BAC</th>\n",
              "      <th>C</th>\n",
              "      <th>AXP</th>\n",
              "      <th>JPM</th>\n",
              "      <th>DFS</th>\n",
              "    </tr>\n",
              "  </thead>\n",
              "  <tbody>\n",
              "    <tr>\n",
              "      <th>0</th>\n",
              "      <td>2022-08-06</td>\n",
              "      <td>28.66337</td>\n",
              "      <td>36.72343</td>\n",
              "      <td>23.76022</td>\n",
              "      <td>47.15524</td>\n",
              "      <td>87.49784</td>\n",
              "      <td>95.86562</td>\n",
              "      <td>83.76031</td>\n",
              "    </tr>\n",
              "    <tr>\n",
              "      <th>1</th>\n",
              "      <td>2022-08-07</td>\n",
              "      <td>29.73377</td>\n",
              "      <td>38.53696</td>\n",
              "      <td>24.65550</td>\n",
              "      <td>50.18599</td>\n",
              "      <td>96.80535</td>\n",
              "      <td>98.76174</td>\n",
              "      <td>81.86189</td>\n",
              "    </tr>\n",
              "    <tr>\n",
              "      <th>2</th>\n",
              "      <td>2022-08-08</td>\n",
              "      <td>28.95728</td>\n",
              "      <td>36.86708</td>\n",
              "      <td>24.00541</td>\n",
              "      <td>48.47065</td>\n",
              "      <td>89.00744</td>\n",
              "      <td>96.32678</td>\n",
              "      <td>87.96178</td>\n",
              "    </tr>\n",
              "    <tr>\n",
              "      <th>3</th>\n",
              "      <td>2022-08-09</td>\n",
              "      <td>27.61097</td>\n",
              "      <td>35.24868</td>\n",
              "      <td>23.07750</td>\n",
              "      <td>45.53086</td>\n",
              "      <td>87.01344</td>\n",
              "      <td>93.86720</td>\n",
              "      <td>90.18279</td>\n",
              "    </tr>\n",
              "    <tr>\n",
              "      <th>4</th>\n",
              "      <td>2022-08-10</td>\n",
              "      <td>27.28582</td>\n",
              "      <td>34.64864</td>\n",
              "      <td>22.89117</td>\n",
              "      <td>45.09571</td>\n",
              "      <td>85.34126</td>\n",
              "      <td>92.80294</td>\n",
              "      <td>92.57491</td>\n",
              "    </tr>\n",
              "    <tr>\n",
              "      <th>5</th>\n",
              "      <td>2022-08-11</td>\n",
              "      <td>26.33453</td>\n",
              "      <td>33.73286</td>\n",
              "      <td>22.59920</td>\n",
              "      <td>43.92514</td>\n",
              "      <td>85.87886</td>\n",
              "      <td>92.61179</td>\n",
              "      <td>93.08434</td>\n",
              "    </tr>\n",
              "    <tr>\n",
              "      <th>6</th>\n",
              "      <td>2022-08-12</td>\n",
              "      <td>25.64866</td>\n",
              "      <td>33.37173</td>\n",
              "      <td>22.29195</td>\n",
              "      <td>42.93924</td>\n",
              "      <td>83.00412</td>\n",
              "      <td>91.06413</td>\n",
              "      <td>93.51119</td>\n",
              "    </tr>\n",
              "    <tr>\n",
              "      <th>7</th>\n",
              "      <td>2022-08-13</td>\n",
              "      <td>25.26046</td>\n",
              "      <td>34.25563</td>\n",
              "      <td>22.75171</td>\n",
              "      <td>44.66571</td>\n",
              "      <td>85.99227</td>\n",
              "      <td>91.74387</td>\n",
              "      <td>93.20435</td>\n",
              "    </tr>\n",
              "    <tr>\n",
              "      <th>8</th>\n",
              "      <td>2022-08-14</td>\n",
              "      <td>25.40736</td>\n",
              "      <td>34.81152</td>\n",
              "      <td>23.44784</td>\n",
              "      <td>46.30727</td>\n",
              "      <td>88.82041</td>\n",
              "      <td>93.16970</td>\n",
              "      <td>93.29051</td>\n",
              "    </tr>\n",
              "    <tr>\n",
              "      <th>9</th>\n",
              "      <td>2022-08-15</td>\n",
              "      <td>24.83765</td>\n",
              "      <td>33.56123</td>\n",
              "      <td>22.52759</td>\n",
              "      <td>44.04236</td>\n",
              "      <td>84.08997</td>\n",
              "      <td>90.83474</td>\n",
              "      <td>93.18523</td>\n",
              "    </tr>\n",
              "    <tr>\n",
              "      <th>10</th>\n",
              "      <td>2022-08-16</td>\n",
              "      <td>24.15303</td>\n",
              "      <td>31.92847</td>\n",
              "      <td>21.84885</td>\n",
              "      <td>42.33738</td>\n",
              "      <td>82.22269</td>\n",
              "      <td>87.97959</td>\n",
              "      <td>93.37707</td>\n",
              "    </tr>\n",
              "    <tr>\n",
              "      <th>11</th>\n",
              "      <td>2022-08-17</td>\n",
              "      <td>22.77063</td>\n",
              "      <td>29.80888</td>\n",
              "      <td>20.84704</td>\n",
              "      <td>40.59320</td>\n",
              "      <td>77.14538</td>\n",
              "      <td>84.82874</td>\n",
              "      <td>93.82896</td>\n",
              "    </tr>\n",
              "    <tr>\n",
              "      <th>12</th>\n",
              "      <td>2022-08-18</td>\n",
              "      <td>23.99444</td>\n",
              "      <td>31.23351</td>\n",
              "      <td>21.62964</td>\n",
              "      <td>42.11955</td>\n",
              "      <td>83.11967</td>\n",
              "      <td>87.89492</td>\n",
              "      <td>92.97503</td>\n",
              "    </tr>\n",
              "    <tr>\n",
              "      <th>13</th>\n",
              "      <td>2022-08-19</td>\n",
              "      <td>23.45813</td>\n",
              "      <td>30.83344</td>\n",
              "      <td>21.33183</td>\n",
              "      <td>41.93784</td>\n",
              "      <td>81.34727</td>\n",
              "      <td>86.69442</td>\n",
              "      <td>92.19981</td>\n",
              "    </tr>\n",
              "    <tr>\n",
              "      <th>14</th>\n",
              "      <td>2022-08-20</td>\n",
              "      <td>25.25801</td>\n",
              "      <td>32.93767</td>\n",
              "      <td>22.80064</td>\n",
              "      <td>45.71483</td>\n",
              "      <td>87.91084</td>\n",
              "      <td>90.64854</td>\n",
              "      <td>93.29691</td>\n",
              "    </tr>\n",
              "  </tbody>\n",
              "</table>\n",
              "</div>\n",
              "      <button class=\"colab-df-convert\" onclick=\"convertToInteractive('df-a203ca98-1a85-4fe2-bacb-01dce7356af7')\"\n",
              "              title=\"Convert this dataframe to an interactive table.\"\n",
              "              style=\"display:none;\">\n",
              "        \n",
              "  <svg xmlns=\"http://www.w3.org/2000/svg\" height=\"24px\"viewBox=\"0 0 24 24\"\n",
              "       width=\"24px\">\n",
              "    <path d=\"M0 0h24v24H0V0z\" fill=\"none\"/>\n",
              "    <path d=\"M18.56 5.44l.94 2.06.94-2.06 2.06-.94-2.06-.94-.94-2.06-.94 2.06-2.06.94zm-11 1L8.5 8.5l.94-2.06 2.06-.94-2.06-.94L8.5 2.5l-.94 2.06-2.06.94zm10 10l.94 2.06.94-2.06 2.06-.94-2.06-.94-.94-2.06-.94 2.06-2.06.94z\"/><path d=\"M17.41 7.96l-1.37-1.37c-.4-.4-.92-.59-1.43-.59-.52 0-1.04.2-1.43.59L10.3 9.45l-7.72 7.72c-.78.78-.78 2.05 0 2.83L4 21.41c.39.39.9.59 1.41.59.51 0 1.02-.2 1.41-.59l7.78-7.78 2.81-2.81c.8-.78.8-2.07 0-2.86zM5.41 20L4 18.59l7.72-7.72 1.47 1.35L5.41 20z\"/>\n",
              "  </svg>\n",
              "      </button>\n",
              "      \n",
              "  <style>\n",
              "    .colab-df-container {\n",
              "      display:flex;\n",
              "      flex-wrap:wrap;\n",
              "      gap: 12px;\n",
              "    }\n",
              "\n",
              "    .colab-df-convert {\n",
              "      background-color: #E8F0FE;\n",
              "      border: none;\n",
              "      border-radius: 50%;\n",
              "      cursor: pointer;\n",
              "      display: none;\n",
              "      fill: #1967D2;\n",
              "      height: 32px;\n",
              "      padding: 0 0 0 0;\n",
              "      width: 32px;\n",
              "    }\n",
              "\n",
              "    .colab-df-convert:hover {\n",
              "      background-color: #E2EBFA;\n",
              "      box-shadow: 0px 1px 2px rgba(60, 64, 67, 0.3), 0px 1px 3px 1px rgba(60, 64, 67, 0.15);\n",
              "      fill: #174EA6;\n",
              "    }\n",
              "\n",
              "    [theme=dark] .colab-df-convert {\n",
              "      background-color: #3B4455;\n",
              "      fill: #D2E3FC;\n",
              "    }\n",
              "\n",
              "    [theme=dark] .colab-df-convert:hover {\n",
              "      background-color: #434B5C;\n",
              "      box-shadow: 0px 1px 3px 1px rgba(0, 0, 0, 0.15);\n",
              "      filter: drop-shadow(0px 1px 2px rgba(0, 0, 0, 0.3));\n",
              "      fill: #FFFFFF;\n",
              "    }\n",
              "  </style>\n",
              "\n",
              "      <script>\n",
              "        const buttonEl =\n",
              "          document.querySelector('#df-a203ca98-1a85-4fe2-bacb-01dce7356af7 button.colab-df-convert');\n",
              "        buttonEl.style.display =\n",
              "          google.colab.kernel.accessAllowed ? 'block' : 'none';\n",
              "\n",
              "        async function convertToInteractive(key) {\n",
              "          const element = document.querySelector('#df-a203ca98-1a85-4fe2-bacb-01dce7356af7');\n",
              "          const dataTable =\n",
              "            await google.colab.kernel.invokeFunction('convertToInteractive',\n",
              "                                                     [key], {});\n",
              "          if (!dataTable) return;\n",
              "\n",
              "          const docLinkHtml = 'Like what you see? Visit the ' +\n",
              "            '<a target=\"_blank\" href=https://colab.research.google.com/notebooks/data_table.ipynb>data table notebook</a>'\n",
              "            + ' to learn more about interactive tables.';\n",
              "          element.innerHTML = '';\n",
              "          dataTable['output_type'] = 'display_data';\n",
              "          await google.colab.output.renderOutput(dataTable, element);\n",
              "          const docLink = document.createElement('div');\n",
              "          docLink.innerHTML = docLinkHtml;\n",
              "          element.appendChild(docLink);\n",
              "        }\n",
              "      </script>\n",
              "    </div>\n",
              "  </div>\n",
              "  "
            ]
          },
          "metadata": {},
          "execution_count": 45
        }
      ]
    },
    {
      "cell_type": "code",
      "source": [
        "# plot the dataframe\n",
        "pred_comb.plot(x='dates', y=[\"WFC\",\t\"USB\",\"BAC\",\"C\",\"AXP\",\"JPM\",\"DFS\"], kind=\"line\", figsize=(9, 8), title='Bank Stock Predictions')\n",
        "plt.legend([\"WFC\",\t\"USB\",\"BAC\",\"C\",\"AXP\",\"JPM\",\"DFS\"])\n",
        "plt.xlabel('Future Date')\n",
        "plt.ylabel('Predicted Closing Price')\n",
        "plt.show()"
      ],
      "metadata": {
        "colab": {
          "base_uri": "https://localhost:8080/",
          "height": 536
        },
        "id": "x9Fjf5cuyxt1",
        "outputId": "8e9b96e0-d45c-4a4c-db89-3de96d5d832e"
      },
      "execution_count": null,
      "outputs": [
        {
          "output_type": "display_data",
          "data": {
            "text/plain": [
              "<Figure size 648x576 with 1 Axes>"
            ],
            "image/png": "[encoded data removed]"
          },
          "metadata": {
            "needs_background": "light"
          }
        }
      ]
    }
  ]
}